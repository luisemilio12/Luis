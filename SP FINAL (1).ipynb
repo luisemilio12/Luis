{
 "cells": [
  {
   "cell_type": "markdown",
   "metadata": {},
   "source": [
    "# Entrega situación problema"
   ]
  },
  {
   "cell_type": "markdown",
   "metadata": {},
   "source": [
    "## Luis Emilio Morales Fitch A01114849"
   ]
  },
  {
   "cell_type": "markdown",
   "metadata": {},
   "source": [
    "## Importamos las librerías a utilizar"
   ]
  },
  {
   "cell_type": "code",
   "execution_count": 1,
   "metadata": {},
   "outputs": [],
   "source": [
    "import pandas as pd\n",
    "import numpy as np\n",
    "import seaborn as sns\n",
    "import matplotlib.pyplot as plt\n",
    "import statsmodels.api as sm\n",
    "import statsmodels.formula.api as smf"
   ]
  },
  {
   "cell_type": "code",
   "execution_count": 2,
   "metadata": {},
   "outputs": [
    {
     "name": "stdout",
     "output_type": "stream",
     "text": [
      "Requirement already satisfied: openpyxl in /srv/conda/envs/notebook/lib/python3.8/site-packages (3.0.9)\n",
      "Requirement already satisfied: et-xmlfile in /srv/conda/envs/notebook/lib/python3.8/site-packages (from openpyxl) (1.1.0)\n",
      "Note: you may need to restart the kernel to use updated packages.\n"
     ]
    }
   ],
   "source": [
    "pip install openpyxl"
   ]
  },
  {
   "cell_type": "code",
   "execution_count": 3,
   "metadata": {},
   "outputs": [
    {
     "name": "stdout",
     "output_type": "stream",
     "text": [
      "Requirement already satisfied: statsmodels in /srv/conda/envs/notebook/lib/python3.8/site-packages (0.13.0)\n",
      "Requirement already satisfied: scipy>=1.3 in /srv/conda/envs/notebook/lib/python3.8/site-packages (from statsmodels) (1.4.1)\n",
      "Requirement already satisfied: patsy>=0.5.2 in /srv/conda/envs/notebook/lib/python3.8/site-packages (from statsmodels) (0.5.2)\n",
      "Requirement already satisfied: pandas>=0.25 in /srv/conda/envs/notebook/lib/python3.8/site-packages (from statsmodels) (1.0.4)\n",
      "Requirement already satisfied: numpy>=1.17 in /srv/conda/envs/notebook/lib/python3.8/site-packages (from statsmodels) (1.18.5)\n",
      "Requirement already satisfied: pytz>=2017.2 in /srv/conda/envs/notebook/lib/python3.8/site-packages (from pandas>=0.25->statsmodels) (2020.1)\n",
      "Requirement already satisfied: python-dateutil>=2.6.1 in /srv/conda/envs/notebook/lib/python3.8/site-packages (from pandas>=0.25->statsmodels) (2.8.1)\n",
      "Requirement already satisfied: six in /srv/conda/envs/notebook/lib/python3.8/site-packages (from patsy>=0.5.2->statsmodels) (1.15.0)\n",
      "Note: you may need to restart the kernel to use updated packages.\n"
     ]
    }
   ],
   "source": [
    "pip install statsmodels"
   ]
  },
  {
   "cell_type": "code",
   "execution_count": 4,
   "metadata": {},
   "outputs": [
    {
     "name": "stdout",
     "output_type": "stream",
     "text": [
      "Requirement already satisfied: xlrd in /srv/conda/envs/notebook/lib/python3.8/site-packages (2.0.1)\n",
      "Note: you may need to restart the kernel to use updated packages.\n"
     ]
    }
   ],
   "source": [
    "pip install xlrd"
   ]
  },
  {
   "cell_type": "code",
   "execution_count": 5,
   "metadata": {},
   "outputs": [
    {
     "name": "stdout",
     "output_type": "stream",
     "text": [
      " adult.csv                                'Clase graficas de pastel (2).ipynb'\r\n",
      " airline_data.csv                          cwurData.csv\r\n",
      " antropometria00.csv                       data.csv\r\n",
      "'antropometria-dataset (1).csv'            headbrain.csv\r\n",
      " antropometria-dataset-1.csv               mic.xlsx\r\n",
      " antropometria-dataset.csv                 movies.csv\r\n",
      " antropometria-dataset.xlsx                nhanes_2015_2016.csv\r\n",
      " BD.xlsx                                   pokemon.csv\r\n",
      " Canada.xlsx                               sample_pivot.csv\r\n",
      " Cartwheeldata.csv                         Tabla.xlsx\r\n",
      " census.csv                                tips.csv\r\n",
      "'Clase graficas de pastel (1) (1).ipynb'   weight-height.csv\r\n"
     ]
    }
   ],
   "source": [
    "%ls datasets/"
   ]
  },
  {
   "cell_type": "markdown",
   "metadata": {},
   "source": [
    "# 1. Traemos de excel el documento, y seleccionamos la variable a calcular. \n",
    "# ¿Qué se espera lograr con esta entrega?"
   ]
  },
  {
   "cell_type": "code",
   "execution_count": 6,
   "metadata": {},
   "outputs": [
    {
     "data": {
      "text/html": [
       "<div>\n",
       "<style scoped>\n",
       "    .dataframe tbody tr th:only-of-type {\n",
       "        vertical-align: middle;\n",
       "    }\n",
       "\n",
       "    .dataframe tbody tr th {\n",
       "        vertical-align: top;\n",
       "    }\n",
       "\n",
       "    .dataframe thead th {\n",
       "        text-align: right;\n",
       "    }\n",
       "</style>\n",
       "<table border=\"1\" class=\"dataframe\">\n",
       "  <thead>\n",
       "    <tr style=\"text-align: right;\">\n",
       "      <th></th>\n",
       "      <th>Unnamed: 0</th>\n",
       "      <th>Temperatura</th>\n",
       "      <th>Voltaje</th>\n",
       "      <th>Ángulo</th>\n",
       "      <th>Velocidad</th>\n",
       "      <th>% carbón</th>\n",
       "      <th>Robot</th>\n",
       "      <th>Diámetro promedio</th>\n",
       "    </tr>\n",
       "  </thead>\n",
       "  <tbody>\n",
       "    <tr>\n",
       "      <th>0</th>\n",
       "      <td>1</td>\n",
       "      <td>97.1</td>\n",
       "      <td>16.7</td>\n",
       "      <td>38.9</td>\n",
       "      <td>5</td>\n",
       "      <td>10</td>\n",
       "      <td>1</td>\n",
       "      <td>195.415</td>\n",
       "    </tr>\n",
       "    <tr>\n",
       "      <th>1</th>\n",
       "      <td>2</td>\n",
       "      <td>108.0</td>\n",
       "      <td>29.5</td>\n",
       "      <td>68.7</td>\n",
       "      <td>10</td>\n",
       "      <td>21</td>\n",
       "      <td>1</td>\n",
       "      <td>71.995</td>\n",
       "    </tr>\n",
       "    <tr>\n",
       "      <th>2</th>\n",
       "      <td>3</td>\n",
       "      <td>92.3</td>\n",
       "      <td>27.0</td>\n",
       "      <td>62.9</td>\n",
       "      <td>7</td>\n",
       "      <td>13</td>\n",
       "      <td>1</td>\n",
       "      <td>102.980</td>\n",
       "    </tr>\n",
       "    <tr>\n",
       "      <th>3</th>\n",
       "      <td>4</td>\n",
       "      <td>131.7</td>\n",
       "      <td>22.2</td>\n",
       "      <td>51.7</td>\n",
       "      <td>6</td>\n",
       "      <td>30</td>\n",
       "      <td>1</td>\n",
       "      <td>186.680</td>\n",
       "    </tr>\n",
       "    <tr>\n",
       "      <th>4</th>\n",
       "      <td>5</td>\n",
       "      <td>81.2</td>\n",
       "      <td>15.8</td>\n",
       "      <td>36.8</td>\n",
       "      <td>9</td>\n",
       "      <td>15</td>\n",
       "      <td>1</td>\n",
       "      <td>127.680</td>\n",
       "    </tr>\n",
       "    <tr>\n",
       "      <th>...</th>\n",
       "      <td>...</td>\n",
       "      <td>...</td>\n",
       "      <td>...</td>\n",
       "      <td>...</td>\n",
       "      <td>...</td>\n",
       "      <td>...</td>\n",
       "      <td>...</td>\n",
       "      <td>...</td>\n",
       "    </tr>\n",
       "    <tr>\n",
       "      <th>63</th>\n",
       "      <td>64</td>\n",
       "      <td>89.7</td>\n",
       "      <td>28.2</td>\n",
       "      <td>65.7</td>\n",
       "      <td>10</td>\n",
       "      <td>21</td>\n",
       "      <td>3</td>\n",
       "      <td>58.440</td>\n",
       "    </tr>\n",
       "    <tr>\n",
       "      <th>64</th>\n",
       "      <td>65</td>\n",
       "      <td>88.6</td>\n",
       "      <td>25.8</td>\n",
       "      <td>60.1</td>\n",
       "      <td>6</td>\n",
       "      <td>25</td>\n",
       "      <td>3</td>\n",
       "      <td>120.460</td>\n",
       "    </tr>\n",
       "    <tr>\n",
       "      <th>65</th>\n",
       "      <td>66</td>\n",
       "      <td>154.4</td>\n",
       "      <td>13.0</td>\n",
       "      <td>30.3</td>\n",
       "      <td>10</td>\n",
       "      <td>10</td>\n",
       "      <td>3</td>\n",
       "      <td>208.790</td>\n",
       "    </tr>\n",
       "    <tr>\n",
       "      <th>66</th>\n",
       "      <td>67</td>\n",
       "      <td>121.7</td>\n",
       "      <td>24.4</td>\n",
       "      <td>56.9</td>\n",
       "      <td>7</td>\n",
       "      <td>30</td>\n",
       "      <td>3</td>\n",
       "      <td>152.900</td>\n",
       "    </tr>\n",
       "    <tr>\n",
       "      <th>67</th>\n",
       "      <td>68</td>\n",
       "      <td>86.8</td>\n",
       "      <td>25.6</td>\n",
       "      <td>59.6</td>\n",
       "      <td>4</td>\n",
       "      <td>13</td>\n",
       "      <td>3</td>\n",
       "      <td>147.980</td>\n",
       "    </tr>\n",
       "  </tbody>\n",
       "</table>\n",
       "<p>68 rows × 8 columns</p>\n",
       "</div>"
      ],
      "text/plain": [
       "    Unnamed: 0  Temperatura  Voltaje  Ángulo  Velocidad  % carbón  Robot  \\\n",
       "0            1         97.1     16.7    38.9          5        10      1   \n",
       "1            2        108.0     29.5    68.7         10        21      1   \n",
       "2            3         92.3     27.0    62.9          7        13      1   \n",
       "3            4        131.7     22.2    51.7          6        30      1   \n",
       "4            5         81.2     15.8    36.8          9        15      1   \n",
       "..         ...          ...      ...     ...        ...       ...    ...   \n",
       "63          64         89.7     28.2    65.7         10        21      3   \n",
       "64          65         88.6     25.8    60.1          6        25      3   \n",
       "65          66        154.4     13.0    30.3         10        10      3   \n",
       "66          67        121.7     24.4    56.9          7        30      3   \n",
       "67          68         86.8     25.6    59.6          4        13      3   \n",
       "\n",
       "    Diámetro promedio  \n",
       "0             195.415  \n",
       "1              71.995  \n",
       "2             102.980  \n",
       "3             186.680  \n",
       "4             127.680  \n",
       "..                ...  \n",
       "63             58.440  \n",
       "64            120.460  \n",
       "65            208.790  \n",
       "66            152.900  \n",
       "67            147.980  \n",
       "\n",
       "[68 rows x 8 columns]"
      ]
     },
     "execution_count": 6,
     "metadata": {},
     "output_type": "execute_result"
    }
   ],
   "source": [
    "df=pd.read_excel('datasets/BD.xlsx',\n",
    "               sheet_name='Sheet1',\n",
    "               engine='openpyxl'\n",
    "              )\n",
    "df"
   ]
  },
  {
   "cell_type": "markdown",
   "metadata": {},
   "source": [
    "## Conclusion\n",
    "#### Al llamar la base de datos, seleccioné la columna de Diámetro promedio, ya que esta base de datos es por parte de una empresa encargada de hacer tornillos, en los que deben cuidar los estándares y medidas de sus tornillos. Lo que se busca con esta entregable, es realizar un buen modelo de regresión, que nos ayude a pronosticar aproximadamente el diámetro de los tornillos, de manera que tengamos un control sobre los mismos."
   ]
  },
  {
   "cell_type": "code",
   "execution_count": 7,
   "metadata": {},
   "outputs": [
    {
     "data": {
      "text/plain": [
       "Index(['Unnamed: 0', 'Temperatura', 'Voltaje', 'Ángulo', 'Velocidad',\n",
       "       '% carbón', 'Robot', 'Diámetro promedio'],\n",
       "      dtype='object')"
      ]
     },
     "execution_count": 7,
     "metadata": {},
     "output_type": "execute_result"
    }
   ],
   "source": [
    "df.columns"
   ]
  },
  {
   "cell_type": "code",
   "execution_count": 8,
   "metadata": {},
   "outputs": [
    {
     "data": {
      "text/html": [
       "<div>\n",
       "<style scoped>\n",
       "    .dataframe tbody tr th:only-of-type {\n",
       "        vertical-align: middle;\n",
       "    }\n",
       "\n",
       "    .dataframe tbody tr th {\n",
       "        vertical-align: top;\n",
       "    }\n",
       "\n",
       "    .dataframe thead th {\n",
       "        text-align: right;\n",
       "    }\n",
       "</style>\n",
       "<table border=\"1\" class=\"dataframe\">\n",
       "  <thead>\n",
       "    <tr style=\"text-align: right;\">\n",
       "      <th></th>\n",
       "      <th>Temperatura</th>\n",
       "      <th>Voltaje</th>\n",
       "      <th>Ángulo</th>\n",
       "      <th>Velocidad</th>\n",
       "      <th>% carbón</th>\n",
       "      <th>Robot</th>\n",
       "      <th>Diámetro promedio</th>\n",
       "    </tr>\n",
       "    <tr>\n",
       "      <th>Unnamed: 0</th>\n",
       "      <th></th>\n",
       "      <th></th>\n",
       "      <th></th>\n",
       "      <th></th>\n",
       "      <th></th>\n",
       "      <th></th>\n",
       "      <th></th>\n",
       "    </tr>\n",
       "  </thead>\n",
       "  <tbody>\n",
       "    <tr>\n",
       "      <th>1</th>\n",
       "      <td>97.1</td>\n",
       "      <td>16.7</td>\n",
       "      <td>38.9</td>\n",
       "      <td>5</td>\n",
       "      <td>10</td>\n",
       "      <td>1</td>\n",
       "      <td>195.415</td>\n",
       "    </tr>\n",
       "    <tr>\n",
       "      <th>2</th>\n",
       "      <td>108.0</td>\n",
       "      <td>29.5</td>\n",
       "      <td>68.7</td>\n",
       "      <td>10</td>\n",
       "      <td>21</td>\n",
       "      <td>1</td>\n",
       "      <td>71.995</td>\n",
       "    </tr>\n",
       "    <tr>\n",
       "      <th>3</th>\n",
       "      <td>92.3</td>\n",
       "      <td>27.0</td>\n",
       "      <td>62.9</td>\n",
       "      <td>7</td>\n",
       "      <td>13</td>\n",
       "      <td>1</td>\n",
       "      <td>102.980</td>\n",
       "    </tr>\n",
       "    <tr>\n",
       "      <th>4</th>\n",
       "      <td>131.7</td>\n",
       "      <td>22.2</td>\n",
       "      <td>51.7</td>\n",
       "      <td>6</td>\n",
       "      <td>30</td>\n",
       "      <td>1</td>\n",
       "      <td>186.680</td>\n",
       "    </tr>\n",
       "    <tr>\n",
       "      <th>5</th>\n",
       "      <td>81.2</td>\n",
       "      <td>15.8</td>\n",
       "      <td>36.8</td>\n",
       "      <td>9</td>\n",
       "      <td>15</td>\n",
       "      <td>1</td>\n",
       "      <td>127.680</td>\n",
       "    </tr>\n",
       "  </tbody>\n",
       "</table>\n",
       "</div>"
      ],
      "text/plain": [
       "            Temperatura  Voltaje  Ángulo  Velocidad  % carbón  Robot  \\\n",
       "Unnamed: 0                                                             \n",
       "1                  97.1     16.7    38.9          5        10      1   \n",
       "2                 108.0     29.5    68.7         10        21      1   \n",
       "3                  92.3     27.0    62.9          7        13      1   \n",
       "4                 131.7     22.2    51.7          6        30      1   \n",
       "5                  81.2     15.8    36.8          9        15      1   \n",
       "\n",
       "            Diámetro promedio  \n",
       "Unnamed: 0                     \n",
       "1                     195.415  \n",
       "2                      71.995  \n",
       "3                     102.980  \n",
       "4                     186.680  \n",
       "5                     127.680  "
      ]
     },
     "execution_count": 8,
     "metadata": {},
     "output_type": "execute_result"
    }
   ],
   "source": [
    "df.set_index('Unnamed: 0', inplace=True)\n",
    "df.head()"
   ]
  },
  {
   "cell_type": "markdown",
   "metadata": {},
   "source": [
    "# 2. Hacemos gráficas de variables contra Diámetro promedio, para identificar si existen comportamientos similares."
   ]
  },
  {
   "cell_type": "code",
   "execution_count": 9,
   "metadata": {},
   "outputs": [
    {
     "data": {
      "text/plain": [
       "Text(0.5, 1.0, 'Scatter plot of Voltaje vs Diametro promedio')"
      ]
     },
     "execution_count": 9,
     "metadata": {},
     "output_type": "execute_result"
    },
    {
     "data": {
      "image/png": "[encoded data removed]",
      "text/plain": [
       "<Figure size 360x360 with 1 Axes>"
      ]
     },
     "metadata": {
      "needs_background": "light"
     },
     "output_type": "display_data"
    }
   ],
   "source": [
    "\n",
    "sns.lmplot(x='Voltaje',\n",
    "           y='Diámetro promedio',\n",
    "           data=df,\n",
    "           fit_reg=True,\n",
    "          )\n",
    "plt.title('Scatter plot of Voltaje vs Diametro promedio')\n"
   ]
  },
  {
   "cell_type": "code",
   "execution_count": 10,
   "metadata": {},
   "outputs": [
    {
     "data": {
      "text/plain": [
       "Text(0.5, 1.0, 'Scatter plot of Ángulo vs Diametro promedio')"
      ]
     },
     "execution_count": 10,
     "metadata": {},
     "output_type": "execute_result"
    },
    {
     "data": {
      "image/png": "[encoded data removed]",
      "text/plain": [
       "<Figure size 360x360 with 1 Axes>"
      ]
     },
     "metadata": {
      "needs_background": "light"
     },
     "output_type": "display_data"
    }
   ],
   "source": [
    "sns.lmplot(x='Ángulo',\n",
    "           y='Diámetro promedio',\n",
    "           data=df,\n",
    "           fit_reg=True,\n",
    "          )\n",
    "plt.title('Scatter plot of Ángulo vs Diametro promedio')"
   ]
  },
  {
   "cell_type": "code",
   "execution_count": 11,
   "metadata": {},
   "outputs": [
    {
     "data": {
      "text/plain": [
       "Text(0.5, 1.0, 'Scatter plot of Voltaje vs Ángulo')"
      ]
     },
     "execution_count": 11,
     "metadata": {},
     "output_type": "execute_result"
    },
    {
     "data": {
      "image/png": "[encoded data removed]",
      "text/plain": [
       "<Figure size 360x360 with 1 Axes>"
      ]
     },
     "metadata": {
      "needs_background": "light"
     },
     "output_type": "display_data"
    }
   ],
   "source": [
    "sns.lmplot(x='Voltaje',\n",
    "           y='Ángulo',\n",
    "           data=df,\n",
    "           fit_reg=True,\n",
    "          )\n",
    "plt.title('Scatter plot of Voltaje vs Ángulo')"
   ]
  },
  {
   "cell_type": "markdown",
   "metadata": {},
   "source": [
    "## Conclusión\n",
    "#### Después de hacer el análisis y revisar las primeras 2 gráficas, vimos que la variable de voltaje y ángulo si afectan al resultado final, pues podemos observar una correlación negativa, sin embargo, también nos pudimos dar cuenta que estas variables mostraban exactamente el mismo comportamiento contra el resultado final, por lo que al hacer un análisis para ambas, nos pudimos dar cuenta que representan exactamente lo mismo, por lo que podríamos eliminar una de ellas automáticamente al hacer un análisis de regresión, pues nos arrojan el mismo resultado"
   ]
  },
  {
   "cell_type": "markdown",
   "metadata": {},
   "source": [
    "# 3. ¿Qué type son las variables a analizar?"
   ]
  },
  {
   "cell_type": "code",
   "execution_count": 12,
   "metadata": {},
   "outputs": [
    {
     "name": "stdout",
     "output_type": "stream",
     "text": [
      "<class 'pandas.core.frame.DataFrame'>\n",
      "Int64Index: 68 entries, 1 to 68\n",
      "Data columns (total 7 columns):\n",
      " #   Column             Non-Null Count  Dtype  \n",
      "---  ------             --------------  -----  \n",
      " 0   Temperatura        68 non-null     float64\n",
      " 1   Voltaje            68 non-null     float64\n",
      " 2   Ángulo             68 non-null     float64\n",
      " 3   Velocidad          68 non-null     int64  \n",
      " 4   % carbón           68 non-null     int64  \n",
      " 5   Robot              68 non-null     int64  \n",
      " 6   Diámetro promedio  68 non-null     float64\n",
      "dtypes: float64(4), int64(3)\n",
      "memory usage: 4.2 KB\n"
     ]
    }
   ],
   "source": [
    "df.info(verbose=True)"
   ]
  },
  {
   "cell_type": "markdown",
   "metadata": {},
   "source": [
    "## Conclusión\n",
    "#### Podemos observar que las variables de temperatura, voltaje, y ángulo son de tipo float, pues tienen números decimales, a su vez, la variable de Diámetro promedio que es la que estimaremos, es de tipo float también. Las variables de velocidad, % de carbón y Robot son números enteros, por lo que su type es int, sin embargo, la variable de robot es categórica, pues nos habla sobre el tipo de robot o maquinaria utilizada para poder realizar los tornillos, por lo que existen solo robot 1, 2 y 3"
   ]
  },
  {
   "cell_type": "markdown",
   "metadata": {},
   "source": [
    "# 4. Descripción de las variables a utilizar"
   ]
  },
  {
   "cell_type": "code",
   "execution_count": 13,
   "metadata": {},
   "outputs": [
    {
     "data": {
      "text/html": [
       "<div>\n",
       "<style scoped>\n",
       "    .dataframe tbody tr th:only-of-type {\n",
       "        vertical-align: middle;\n",
       "    }\n",
       "\n",
       "    .dataframe tbody tr th {\n",
       "        vertical-align: top;\n",
       "    }\n",
       "\n",
       "    .dataframe thead th {\n",
       "        text-align: right;\n",
       "    }\n",
       "</style>\n",
       "<table border=\"1\" class=\"dataframe\">\n",
       "  <thead>\n",
       "    <tr style=\"text-align: right;\">\n",
       "      <th></th>\n",
       "      <th>Temperatura</th>\n",
       "      <th>Voltaje</th>\n",
       "      <th>Ángulo</th>\n",
       "      <th>Velocidad</th>\n",
       "      <th>% carbón</th>\n",
       "      <th>Robot</th>\n",
       "      <th>Diámetro promedio</th>\n",
       "    </tr>\n",
       "  </thead>\n",
       "  <tbody>\n",
       "    <tr>\n",
       "      <th>count</th>\n",
       "      <td>68.000000</td>\n",
       "      <td>68.000000</td>\n",
       "      <td>68.000000</td>\n",
       "      <td>68.000000</td>\n",
       "      <td>68.000000</td>\n",
       "      <td>68.000000</td>\n",
       "      <td>68.000000</td>\n",
       "    </tr>\n",
       "    <tr>\n",
       "      <th>mean</th>\n",
       "      <td>97.057353</td>\n",
       "      <td>21.327941</td>\n",
       "      <td>49.691176</td>\n",
       "      <td>6.294118</td>\n",
       "      <td>17.970588</td>\n",
       "      <td>1.823529</td>\n",
       "      <td>149.498603</td>\n",
       "    </tr>\n",
       "    <tr>\n",
       "      <th>std</th>\n",
       "      <td>16.253682</td>\n",
       "      <td>5.961114</td>\n",
       "      <td>13.885209</td>\n",
       "      <td>2.331221</td>\n",
       "      <td>7.066783</td>\n",
       "      <td>0.827533</td>\n",
       "      <td>47.761947</td>\n",
       "    </tr>\n",
       "    <tr>\n",
       "      <th>min</th>\n",
       "      <td>55.200000</td>\n",
       "      <td>10.400000</td>\n",
       "      <td>24.200000</td>\n",
       "      <td>1.000000</td>\n",
       "      <td>10.000000</td>\n",
       "      <td>1.000000</td>\n",
       "      <td>58.440000</td>\n",
       "    </tr>\n",
       "    <tr>\n",
       "      <th>25%</th>\n",
       "      <td>87.775000</td>\n",
       "      <td>16.500000</td>\n",
       "      <td>38.400000</td>\n",
       "      <td>5.000000</td>\n",
       "      <td>13.000000</td>\n",
       "      <td>1.000000</td>\n",
       "      <td>119.131250</td>\n",
       "    </tr>\n",
       "    <tr>\n",
       "      <th>50%</th>\n",
       "      <td>95.500000</td>\n",
       "      <td>21.150000</td>\n",
       "      <td>49.300000</td>\n",
       "      <td>6.000000</td>\n",
       "      <td>15.000000</td>\n",
       "      <td>2.000000</td>\n",
       "      <td>142.562500</td>\n",
       "    </tr>\n",
       "    <tr>\n",
       "      <th>75%</th>\n",
       "      <td>103.400000</td>\n",
       "      <td>27.025000</td>\n",
       "      <td>62.950000</td>\n",
       "      <td>8.000000</td>\n",
       "      <td>21.000000</td>\n",
       "      <td>3.000000</td>\n",
       "      <td>187.206250</td>\n",
       "    </tr>\n",
       "    <tr>\n",
       "      <th>max</th>\n",
       "      <td>154.400000</td>\n",
       "      <td>30.000000</td>\n",
       "      <td>69.900000</td>\n",
       "      <td>12.000000</td>\n",
       "      <td>30.000000</td>\n",
       "      <td>3.000000</td>\n",
       "      <td>257.370000</td>\n",
       "    </tr>\n",
       "  </tbody>\n",
       "</table>\n",
       "</div>"
      ],
      "text/plain": [
       "       Temperatura    Voltaje     Ángulo  Velocidad   % carbón      Robot  \\\n",
       "count    68.000000  68.000000  68.000000  68.000000  68.000000  68.000000   \n",
       "mean     97.057353  21.327941  49.691176   6.294118  17.970588   1.823529   \n",
       "std      16.253682   5.961114  13.885209   2.331221   7.066783   0.827533   \n",
       "min      55.200000  10.400000  24.200000   1.000000  10.000000   1.000000   \n",
       "25%      87.775000  16.500000  38.400000   5.000000  13.000000   1.000000   \n",
       "50%      95.500000  21.150000  49.300000   6.000000  15.000000   2.000000   \n",
       "75%     103.400000  27.025000  62.950000   8.000000  21.000000   3.000000   \n",
       "max     154.400000  30.000000  69.900000  12.000000  30.000000   3.000000   \n",
       "\n",
       "       Diámetro promedio  \n",
       "count          68.000000  \n",
       "mean          149.498603  \n",
       "std            47.761947  \n",
       "min            58.440000  \n",
       "25%           119.131250  \n",
       "50%           142.562500  \n",
       "75%           187.206250  \n",
       "max           257.370000  "
      ]
     },
     "execution_count": 13,
     "metadata": {},
     "output_type": "execute_result"
    }
   ],
   "source": [
    "df.describe()"
   ]
  },
  {
   "cell_type": "markdown",
   "metadata": {},
   "source": [
    "## Conclusión\n",
    "#### Podemos observar que existen 68 observaciones, pues nos lo muestra en el conteo para cada una de las variables, así como observamos datos como media, desviación estándar,  mínimo, máximo, etc..."
   ]
  },
  {
   "cell_type": "markdown",
   "metadata": {},
   "source": [
    "# 5. ¿Existen datos atípicos?"
   ]
  },
  {
   "cell_type": "code",
   "execution_count": 14,
   "metadata": {},
   "outputs": [
    {
     "data": {
      "text/plain": [
       "Text(0.5, 1.0, 'Boxplot')"
      ]
     },
     "execution_count": 14,
     "metadata": {},
     "output_type": "execute_result"
    },
    {
     "data": {
      "image/png": "[encoded data removed]",
      "text/plain": [
       "<Figure size 432x288 with 1 Axes>"
      ]
     },
     "metadata": {
      "needs_background": "light"
     },
     "output_type": "display_data"
    }
   ],
   "source": [
    "sns.boxplot(data=df.loc[:,['Temperatura', 'Voltaje', 'Ángulo', 'Velocidad',\n",
    "       '% carbón']]),\n",
    "                        \n",
    "plt.title('Boxplot')"
   ]
  },
  {
   "cell_type": "markdown",
   "metadata": {},
   "source": [
    "## Conclusión\n",
    "#### Podemos observar que la variable de temperatura cuenta con aproximadamente 4 datos atípicos, los cuales se tendrían que observar y analizar especificamente para decidir si eliminarlos o si en realidad no son atípicos y podemos dejarlos en los cálculos. No se incluyó la variable de robot, pues al ser categórica, no puede tener datos atípicos."
   ]
  },
  {
   "cell_type": "code",
   "execution_count": 15,
   "metadata": {},
   "outputs": [],
   "source": [
    "lista2= df.loc[:,['Temperatura', 'Voltaje', 'Ángulo', 'Velocidad','% carbón','Robot']]\n"
   ]
  },
  {
   "cell_type": "code",
   "execution_count": 16,
   "metadata": {},
   "outputs": [],
   "source": [
    "lista=['Temperatura', 'Voltaje', 'Ángulo', 'Velocidad','% carbón','Robot']\n"
   ]
  },
  {
   "cell_type": "markdown",
   "metadata": {},
   "source": [
    "# 6. ¿Existe correlación entre cada una de las variables?"
   ]
  },
  {
   "cell_type": "code",
   "execution_count": 17,
   "metadata": {},
   "outputs": [
    {
     "data": {
      "text/html": [
       "<div>\n",
       "<style scoped>\n",
       "    .dataframe tbody tr th:only-of-type {\n",
       "        vertical-align: middle;\n",
       "    }\n",
       "\n",
       "    .dataframe tbody tr th {\n",
       "        vertical-align: top;\n",
       "    }\n",
       "\n",
       "    .dataframe thead th {\n",
       "        text-align: right;\n",
       "    }\n",
       "</style>\n",
       "<table border=\"1\" class=\"dataframe\">\n",
       "  <thead>\n",
       "    <tr style=\"text-align: right;\">\n",
       "      <th></th>\n",
       "      <th>Temperatura</th>\n",
       "      <th>Voltaje</th>\n",
       "      <th>Ángulo</th>\n",
       "      <th>Velocidad</th>\n",
       "      <th>% carbón</th>\n",
       "      <th>Robot</th>\n",
       "    </tr>\n",
       "  </thead>\n",
       "  <tbody>\n",
       "    <tr>\n",
       "      <th>Temperatura</th>\n",
       "      <td>1.000000</td>\n",
       "      <td>-0.162641</td>\n",
       "      <td>-0.162794</td>\n",
       "      <td>0.248732</td>\n",
       "      <td>-0.103523</td>\n",
       "      <td>-0.130730</td>\n",
       "    </tr>\n",
       "    <tr>\n",
       "      <th>Voltaje</th>\n",
       "      <td>-0.162641</td>\n",
       "      <td>1.000000</td>\n",
       "      <td>0.999998</td>\n",
       "      <td>0.089296</td>\n",
       "      <td>0.223621</td>\n",
       "      <td>0.113264</td>\n",
       "    </tr>\n",
       "    <tr>\n",
       "      <th>Ángulo</th>\n",
       "      <td>-0.162794</td>\n",
       "      <td>0.999998</td>\n",
       "      <td>1.000000</td>\n",
       "      <td>0.089119</td>\n",
       "      <td>0.223961</td>\n",
       "      <td>0.113649</td>\n",
       "    </tr>\n",
       "    <tr>\n",
       "      <th>Velocidad</th>\n",
       "      <td>0.248732</td>\n",
       "      <td>0.089296</td>\n",
       "      <td>0.089119</td>\n",
       "      <td>1.000000</td>\n",
       "      <td>0.024088</td>\n",
       "      <td>0.050516</td>\n",
       "    </tr>\n",
       "    <tr>\n",
       "      <th>% carbón</th>\n",
       "      <td>-0.103523</td>\n",
       "      <td>0.223621</td>\n",
       "      <td>0.223961</td>\n",
       "      <td>0.024088</td>\n",
       "      <td>1.000000</td>\n",
       "      <td>0.121606</td>\n",
       "    </tr>\n",
       "    <tr>\n",
       "      <th>Robot</th>\n",
       "      <td>-0.130730</td>\n",
       "      <td>0.113264</td>\n",
       "      <td>0.113649</td>\n",
       "      <td>0.050516</td>\n",
       "      <td>0.121606</td>\n",
       "      <td>1.000000</td>\n",
       "    </tr>\n",
       "  </tbody>\n",
       "</table>\n",
       "</div>"
      ],
      "text/plain": [
       "             Temperatura   Voltaje    Ángulo  Velocidad  % carbón     Robot\n",
       "Temperatura     1.000000 -0.162641 -0.162794   0.248732 -0.103523 -0.130730\n",
       "Voltaje        -0.162641  1.000000  0.999998   0.089296  0.223621  0.113264\n",
       "Ángulo         -0.162794  0.999998  1.000000   0.089119  0.223961  0.113649\n",
       "Velocidad       0.248732  0.089296  0.089119   1.000000  0.024088  0.050516\n",
       "% carbón       -0.103523  0.223621  0.223961   0.024088  1.000000  0.121606\n",
       "Robot          -0.130730  0.113264  0.113649   0.050516  0.121606  1.000000"
      ]
     },
     "execution_count": 17,
     "metadata": {},
     "output_type": "execute_result"
    }
   ],
   "source": [
    "df[lista].corr()"
   ]
  },
  {
   "cell_type": "markdown",
   "metadata": {},
   "source": [
    "## Conclusión\n",
    "#### En la tabla anterior se muestra la correlación entre cada una de las variables, y observándola, nos podemos dar cuenta de lo mencionado anteriormente, la variable de ángulo tiene una correlación de 1 aproximadamente con la variable de voltaje, por lo que nos podemos dar cuenta que tienen practicamente el mismo comportamiento. "
   ]
  },
  {
   "cell_type": "code",
   "execution_count": 18,
   "metadata": {},
   "outputs": [],
   "source": [
    "x=lista2\n",
    "y= df['Diámetro promedio']"
   ]
  },
  {
   "cell_type": "markdown",
   "metadata": {},
   "source": [
    "# 7. ¿Con nuestras variables y la información que tenemos, podemos realizar un buen modelo de regresión?"
   ]
  },
  {
   "cell_type": "code",
   "execution_count": 20,
   "metadata": {},
   "outputs": [
    {
     "data": {
      "text/html": [
       "<table class=\"simpletable\">\n",
       "<caption>OLS Regression Results</caption>\n",
       "<tr>\n",
       "  <th>Dep. Variable:</th>            <td>y</td>        <th>  R-squared:         </th> <td>   0.997</td>\n",
       "</tr>\n",
       "<tr>\n",
       "  <th>Model:</th>                   <td>OLS</td>       <th>  Adj. R-squared:    </th> <td>   0.997</td>\n",
       "</tr>\n",
       "<tr>\n",
       "  <th>Method:</th>             <td>Least Squares</td>  <th>  F-statistic:       </th> <td>   3953.</td>\n",
       "</tr>\n",
       "<tr>\n",
       "  <th>Date:</th>             <td>Thu, 21 Oct 2021</td> <th>  Prob (F-statistic):</th> <td>4.87e-77</td>\n",
       "</tr>\n",
       "<tr>\n",
       "  <th>Time:</th>                 <td>12:21:27</td>     <th>  Log-Likelihood:    </th> <td> -156.06</td>\n",
       "</tr>\n",
       "<tr>\n",
       "  <th>No. Observations:</th>      <td>    68</td>      <th>  AIC:               </th> <td>   326.1</td>\n",
       "</tr>\n",
       "<tr>\n",
       "  <th>Df Residuals:</th>          <td>    61</td>      <th>  BIC:               </th> <td>   341.7</td>\n",
       "</tr>\n",
       "<tr>\n",
       "  <th>Df Model:</th>              <td>     6</td>      <th>                     </th>     <td> </td>   \n",
       "</tr>\n",
       "<tr>\n",
       "  <th>Covariance Type:</th>      <td>nonrobust</td>    <th>                     </th>     <td> </td>   \n",
       "</tr>\n",
       "</table>\n",
       "<table class=\"simpletable\">\n",
       "<tr>\n",
       "      <td></td>         <th>coef</th>     <th>std err</th>      <th>t</th>      <th>P>|t|</th>  <th>[0.025</th>    <th>0.975]</th>  \n",
       "</tr>\n",
       "<tr>\n",
       "  <th>Intercept</th> <td>  235.9134</td> <td>    2.571</td> <td>   91.746</td> <td> 0.000</td> <td>  230.772</td> <td>  241.055</td>\n",
       "</tr>\n",
       "<tr>\n",
       "  <th>x[0]</th>      <td>    1.1015</td> <td>    0.020</td> <td>   54.360</td> <td> 0.000</td> <td>    1.061</td> <td>    1.142</td>\n",
       "</tr>\n",
       "<tr>\n",
       "  <th>x[1]</th>      <td>  -14.3562</td> <td>   26.897</td> <td>   -0.534</td> <td> 0.595</td> <td>  -68.140</td> <td>   39.428</td>\n",
       "</tr>\n",
       "<tr>\n",
       "  <th>x[2]</th>      <td>    3.9315</td> <td>   11.548</td> <td>    0.340</td> <td> 0.735</td> <td>  -19.161</td> <td>   27.024</td>\n",
       "</tr>\n",
       "<tr>\n",
       "  <th>x[3]</th>      <td>  -12.9060</td> <td>    0.139</td> <td>  -92.557</td> <td> 0.000</td> <td>  -13.185</td> <td>  -12.627</td>\n",
       "</tr>\n",
       "<tr>\n",
       "  <th>x[4]</th>      <td>   -0.0844</td> <td>    0.046</td> <td>   -1.840</td> <td> 0.071</td> <td>   -0.176</td> <td>    0.007</td>\n",
       "</tr>\n",
       "<tr>\n",
       "  <th>x[5]</th>      <td>    0.1390</td> <td>    0.388</td> <td>    0.358</td> <td> 0.722</td> <td>   -0.637</td> <td>    0.915</td>\n",
       "</tr>\n",
       "</table>\n",
       "<table class=\"simpletable\">\n",
       "<tr>\n",
       "  <th>Omnibus:</th>       <td> 6.551</td> <th>  Durbin-Watson:     </th> <td>   1.524</td>\n",
       "</tr>\n",
       "<tr>\n",
       "  <th>Prob(Omnibus):</th> <td> 0.038</td> <th>  Jarque-Bera (JB):  </th> <td>   2.533</td>\n",
       "</tr>\n",
       "<tr>\n",
       "  <th>Skew:</th>          <td>-0.004</td> <th>  Prob(JB):          </th> <td>   0.282</td>\n",
       "</tr>\n",
       "<tr>\n",
       "  <th>Kurtosis:</th>      <td> 2.055</td> <th>  Cond. No.          </th> <td>1.08e+04</td>\n",
       "</tr>\n",
       "</table><br/><br/>Notes:<br/>[1] Standard Errors assume that the covariance matrix of the errors is correctly specified.<br/>[2] The condition number is large, 1.08e+04. This might indicate that there are<br/>strong multicollinearity or other numerical problems."
      ],
      "text/plain": [
       "<class 'statsmodels.iolib.summary.Summary'>\n",
       "\"\"\"\n",
       "                            OLS Regression Results                            \n",
       "==============================================================================\n",
       "Dep. Variable:                      y   R-squared:                       0.997\n",
       "Model:                            OLS   Adj. R-squared:                  0.997\n",
       "Method:                 Least Squares   F-statistic:                     3953.\n",
       "Date:                Thu, 21 Oct 2021   Prob (F-statistic):           4.87e-77\n",
       "Time:                        12:21:27   Log-Likelihood:                -156.06\n",
       "No. Observations:                  68   AIC:                             326.1\n",
       "Df Residuals:                      61   BIC:                             341.7\n",
       "Df Model:                           6                                         \n",
       "Covariance Type:            nonrobust                                         \n",
       "==============================================================================\n",
       "                 coef    std err          t      P>|t|      [0.025      0.975]\n",
       "------------------------------------------------------------------------------\n",
       "Intercept    235.9134      2.571     91.746      0.000     230.772     241.055\n",
       "x[0]           1.1015      0.020     54.360      0.000       1.061       1.142\n",
       "x[1]         -14.3562     26.897     -0.534      0.595     -68.140      39.428\n",
       "x[2]           3.9315     11.548      0.340      0.735     -19.161      27.024\n",
       "x[3]         -12.9060      0.139    -92.557      0.000     -13.185     -12.627\n",
       "x[4]          -0.0844      0.046     -1.840      0.071      -0.176       0.007\n",
       "x[5]           0.1390      0.388      0.358      0.722      -0.637       0.915\n",
       "==============================================================================\n",
       "Omnibus:                        6.551   Durbin-Watson:                   1.524\n",
       "Prob(Omnibus):                  0.038   Jarque-Bera (JB):                2.533\n",
       "Skew:                          -0.004   Prob(JB):                        0.282\n",
       "Kurtosis:                       2.055   Cond. No.                     1.08e+04\n",
       "==============================================================================\n",
       "\n",
       "Notes:\n",
       "[1] Standard Errors assume that the covariance matrix of the errors is correctly specified.\n",
       "[2] The condition number is large, 1.08e+04. This might indicate that there are\n",
       "strong multicollinearity or other numerical problems.\n",
       "\"\"\""
      ]
     },
     "execution_count": 20,
     "metadata": {},
     "output_type": "execute_result"
    }
   ],
   "source": [
    "\n",
    "model=sm.OLS.from_formula('y ~ x',\n",
    "                         data=df)\n",
    "result=model.fit()\n",
    "result.summary()"
   ]
  },
  {
   "cell_type": "markdown",
   "metadata": {},
   "source": [
    "## Conclusión\n",
    "#### Observando el modelo de regresión, podemos observar como tenemos una R al cuadrado de .997, por lo que sabemos que nuestro modelo de regresión es muy bueno, y que podremos estimar el valor del diámetro promedio de manera confiable. A su vez, nos arroja la ecuación de regresión utilizando al intercepto, y el valor que multiplicará a cada una de las variables. También observamos que tenemos el valor de Durbin-Watson de 1.524"
   ]
  },
  {
   "cell_type": "markdown",
   "metadata": {},
   "source": [
    "# 8. Realizamos una gráfica de regresión con alguna de las variables"
   ]
  },
  {
   "cell_type": "code",
   "execution_count": 25,
   "metadata": {},
   "outputs": [
    {
     "data": {
      "image/png": "[encoded data removed]",
      "text/plain": [
       "<Figure size 432x288 with 1 Axes>"
      ]
     },
     "metadata": {
      "needs_background": "light"
     },
     "output_type": "display_data"
    }
   ],
   "source": [
    "ax=sns.regplot(x= 'Voltaje',\n",
    "               y='Diámetro promedio',\n",
    "              data=df)"
   ]
  },
  {
   "cell_type": "markdown",
   "metadata": {},
   "source": [
    "## Conclusión\n",
    "#### Al realizar la gráfica de regresión, utilizamos la variable de voltaje contre el diámetro promedio, para saber si ésta variable era significativa con el resultado final, y vimos que tienen una correlación negativa, por lo que en realidad esta variable si afecta al resultado final."
   ]
  },
  {
   "cell_type": "code",
   "execution_count": null,
   "metadata": {},
   "outputs": [],
   "source": []
  }
 ],
 "metadata": {
  "kernelspec": {
   "display_name": "Python 3 (ipykernel)",
   "language": "python",
   "name": "python3"
  },
  "language_info": {
   "codemirror_mode": {
    "name": "ipython",
    "version": 3
   },
   "file_extension": ".py",
   "mimetype": "text/x-python",
   "name": "python",
   "nbconvert_exporter": "python",
   "pygments_lexer": "ipython3",
   "version": "3.8.12"
  }
 },
 "nbformat": 4,
 "nbformat_minor": 4
}
