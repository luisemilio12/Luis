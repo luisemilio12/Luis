{
 "cells": [
  {
   "cell_type": "markdown",
   "metadata": {},
   "source": [
    "# Welcome to an example Binder"
   ]
  },
  {
   "cell_type": "markdown",
   "metadata": {},
   "source": [
    "We need `seaborn`, which shall be included it in `requirements.txt` file"
   ]
  },
  {
   "cell_type": "code",
   "execution_count": 1,
   "metadata": {},
   "outputs": [],
   "source": [
    "import pandas as pd\n",
    "import numpy as np\n",
    "import seaborn as sns\n",
    "import matplotlib as mpl\n",
    "import matplotlib.pyplot as plt"
   ]
  },
  {
   "cell_type": "code",
   "execution_count": 2,
   "metadata": {},
   "outputs": [
    {
     "name": "stdout",
     "output_type": "stream",
     "text": [
      "Collecting plotly\n",
      "  Downloading plotly-5.3.1-py2.py3-none-any.whl (23.9 MB)\n",
      "\u001b[K     |████████████████████████████████| 23.9 MB 4.8 MB/s eta 0:00:01\n",
      "\u001b[?25hCollecting tenacity>=6.2.0\n",
      "  Downloading tenacity-8.0.1-py3-none-any.whl (24 kB)\n",
      "Requirement already satisfied: six in /srv/conda/envs/notebook/lib/python3.8/site-packages (from plotly) (1.15.0)\n",
      "Installing collected packages: tenacity, plotly\n",
      "Successfully installed plotly-5.3.1 tenacity-8.0.1\n",
      "Note: you may need to restart the kernel to use updated packages.\n"
     ]
    }
   ],
   "source": [
    "pip install plotly"
   ]
  },
  {
   "cell_type": "code",
   "execution_count": 3,
   "metadata": {},
   "outputs": [],
   "source": [
    "import plotly.express as px"
   ]
  },
  {
   "cell_type": "code",
   "execution_count": 4,
   "metadata": {},
   "outputs": [
    {
     "name": "stdout",
     "output_type": "stream",
     "text": [
      "Collecting openpyxl\n",
      "  Downloading openpyxl-3.0.9-py2.py3-none-any.whl (242 kB)\n",
      "\u001b[K     |████████████████████████████████| 242 kB 4.8 MB/s eta 0:00:01\n",
      "\u001b[?25hCollecting et-xmlfile\n",
      "  Downloading et_xmlfile-1.1.0-py3-none-any.whl (4.7 kB)\n",
      "Installing collected packages: et-xmlfile, openpyxl\n",
      "Successfully installed et-xmlfile-1.1.0 openpyxl-3.0.9\n",
      "Note: you may need to restart the kernel to use updated packages.\n"
     ]
    }
   ],
   "source": [
    "pip install openpyxl"
   ]
  },
  {
   "cell_type": "code",
   "execution_count": 5,
   "metadata": {},
   "outputs": [
    {
     "name": "stdout",
     "output_type": "stream",
     "text": [
      " adult.csv                                 data.csv\r\n",
      " airline_data.csv                          headbrain.csv\r\n",
      " antropometria00.csv                       mic.xlsx\r\n",
      " antropometria-dataset.csv                 movies.csv\r\n",
      " BD.xlsx                                   nhanes_2015_2016.csv\r\n",
      " Canada.xlsx                               pokemon.csv\r\n",
      " Cartwheeldata.csv                         sample_pivot.csv\r\n",
      " census.csv                                Tabla.xlsx\r\n",
      "'Clase graficas de pastel (1) (1).ipynb'   tips.csv\r\n",
      " cwurData.csv                              weight-height.csv\r\n"
     ]
    }
   ],
   "source": [
    "%ls datasets/"
   ]
  },
  {
   "cell_type": "code",
   "execution_count": 6,
   "metadata": {},
   "outputs": [
    {
     "data": {
      "text/html": [
       "<div>\n",
       "<style scoped>\n",
       "    .dataframe tbody tr th:only-of-type {\n",
       "        vertical-align: middle;\n",
       "    }\n",
       "\n",
       "    .dataframe tbody tr th {\n",
       "        vertical-align: top;\n",
       "    }\n",
       "\n",
       "    .dataframe thead th {\n",
       "        text-align: right;\n",
       "    }\n",
       "</style>\n",
       "<table border=\"1\" class=\"dataframe\">\n",
       "  <thead>\n",
       "    <tr style=\"text-align: right;\">\n",
       "      <th></th>\n",
       "      <th>Age</th>\n",
       "      <th>Sex</th>\n",
       "      <th>Ocupation</th>\n",
       "      <th>Monthly income</th>\n",
       "      <th>Price</th>\n",
       "      <th>Quality</th>\n",
       "      <th>Quantity</th>\n",
       "      <th>Availability</th>\n",
       "      <th>Taste</th>\n",
       "      <th>Flavours</th>\n",
       "      <th>...</th>\n",
       "      <th>Overal satisfaction</th>\n",
       "      <th>Consistency</th>\n",
       "      <th>Factor</th>\n",
       "      <th>Frowned</th>\n",
       "      <th>reason</th>\n",
       "      <th>Popular</th>\n",
       "      <th>My favorite</th>\n",
       "      <th>Kind</th>\n",
       "      <th>Preference</th>\n",
       "      <th>Recommend</th>\n",
       "    </tr>\n",
       "  </thead>\n",
       "  <tbody>\n",
       "    <tr>\n",
       "      <th>0</th>\n",
       "      <td>31 - 40</td>\n",
       "      <td>Male</td>\n",
       "      <td>Research</td>\n",
       "      <td>&gt;40, 000</td>\n",
       "      <td>5</td>\n",
       "      <td>5</td>\n",
       "      <td>5</td>\n",
       "      <td>4</td>\n",
       "      <td>4</td>\n",
       "      <td>5</td>\n",
       "      <td>...</td>\n",
       "      <td>4</td>\n",
       "      <td>4</td>\n",
       "      <td>Taste</td>\n",
       "      <td>No</td>\n",
       "      <td>NaN</td>\n",
       "      <td>vanilla, lemon, and mint</td>\n",
       "      <td>Chocolate</td>\n",
       "      <td>More than one flavoured</td>\n",
       "      <td>agree</td>\n",
       "      <td>agree</td>\n",
       "    </tr>\n",
       "    <tr>\n",
       "      <th>1</th>\n",
       "      <td>21 - 30</td>\n",
       "      <td>Male</td>\n",
       "      <td>student</td>\n",
       "      <td>&lt;10,000</td>\n",
       "      <td>3</td>\n",
       "      <td>5</td>\n",
       "      <td>3</td>\n",
       "      <td>4</td>\n",
       "      <td>5</td>\n",
       "      <td>5</td>\n",
       "      <td>...</td>\n",
       "      <td>4</td>\n",
       "      <td>4</td>\n",
       "      <td>Taste</td>\n",
       "      <td>No</td>\n",
       "      <td>Quanity issues</td>\n",
       "      <td>vanilla, chocolate, and strawberry</td>\n",
       "      <td>Chocolate</td>\n",
       "      <td>More than one flavoured</td>\n",
       "      <td>neutral</td>\n",
       "      <td>neutral</td>\n",
       "    </tr>\n",
       "    <tr>\n",
       "      <th>2</th>\n",
       "      <td>41 - 50</td>\n",
       "      <td>Female</td>\n",
       "      <td>Teaching</td>\n",
       "      <td>&gt;40, 000</td>\n",
       "      <td>3</td>\n",
       "      <td>4</td>\n",
       "      <td>4</td>\n",
       "      <td>4</td>\n",
       "      <td>3</td>\n",
       "      <td>4</td>\n",
       "      <td>...</td>\n",
       "      <td>4</td>\n",
       "      <td>4</td>\n",
       "      <td>Taste</td>\n",
       "      <td>No</td>\n",
       "      <td>NaN</td>\n",
       "      <td>vanilla, chocolate, and strawberry</td>\n",
       "      <td>Caramel</td>\n",
       "      <td>More than one flavoured</td>\n",
       "      <td>disagree</td>\n",
       "      <td>neutral</td>\n",
       "    </tr>\n",
       "    <tr>\n",
       "      <th>3</th>\n",
       "      <td>21 - 30</td>\n",
       "      <td>Male</td>\n",
       "      <td>Student</td>\n",
       "      <td>&lt;10,000</td>\n",
       "      <td>5</td>\n",
       "      <td>5</td>\n",
       "      <td>3</td>\n",
       "      <td>4</td>\n",
       "      <td>5</td>\n",
       "      <td>5</td>\n",
       "      <td>...</td>\n",
       "      <td>4</td>\n",
       "      <td>4</td>\n",
       "      <td>Taste</td>\n",
       "      <td>No</td>\n",
       "      <td>NaN</td>\n",
       "      <td>vanilla, chocolate, and strawberry</td>\n",
       "      <td>Strawbery</td>\n",
       "      <td>More than one flavoured</td>\n",
       "      <td>agree</td>\n",
       "      <td>agree</td>\n",
       "    </tr>\n",
       "    <tr>\n",
       "      <th>4</th>\n",
       "      <td>21 - 30</td>\n",
       "      <td>Female</td>\n",
       "      <td>Tutor</td>\n",
       "      <td>10,000 - 20,000</td>\n",
       "      <td>5</td>\n",
       "      <td>5</td>\n",
       "      <td>4</td>\n",
       "      <td>4</td>\n",
       "      <td>5</td>\n",
       "      <td>5</td>\n",
       "      <td>...</td>\n",
       "      <td>5</td>\n",
       "      <td>5</td>\n",
       "      <td>Quality</td>\n",
       "      <td>No</td>\n",
       "      <td>NaN</td>\n",
       "      <td>vanilla, chocolate, and strawberry</td>\n",
       "      <td>Vanila</td>\n",
       "      <td>single flavoured</td>\n",
       "      <td>agree</td>\n",
       "      <td>Strongly agree</td>\n",
       "    </tr>\n",
       "  </tbody>\n",
       "</table>\n",
       "<p>5 rows × 24 columns</p>\n",
       "</div>"
      ],
      "text/plain": [
       "       Age     Sex  Ocupation  Monthly income   Price  Quality  Quantity  \\\n",
       "0  31 - 40    Male  Research          >40, 000      5        5         5   \n",
       "1  21 - 30    Male    student          <10,000      3        5         3   \n",
       "2  41 - 50  Female   Teaching         >40, 000      3        4         4   \n",
       "3  21 - 30    Male    Student          <10,000      5        5         3   \n",
       "4  21 - 30  Female      Tutor  10,000 - 20,000      5        5         4   \n",
       "\n",
       "   Availability  Taste  Flavours  ...  Overal satisfaction  Consistency  \\\n",
       "0             4      4         5  ...                    4            4   \n",
       "1             4      5         5  ...                    4            4   \n",
       "2             4      3         4  ...                    4            4   \n",
       "3             4      5         5  ...                    4            4   \n",
       "4             4      5         5  ...                    5            5   \n",
       "\n",
       "    Factor  Frowned          reason                            Popular   \\\n",
       "0    Taste       No             NaN            vanilla, lemon, and mint   \n",
       "1    Taste       No  Quanity issues  vanilla, chocolate, and strawberry   \n",
       "2    Taste       No             NaN  vanilla, chocolate, and strawberry   \n",
       "3    Taste       No             NaN  vanilla, chocolate, and strawberry   \n",
       "4  Quality       No             NaN  vanilla, chocolate, and strawberry   \n",
       "\n",
       "  My favorite                     Kind Preference       Recommend  \n",
       "0   Chocolate  More than one flavoured      agree           agree  \n",
       "1   Chocolate  More than one flavoured    neutral         neutral  \n",
       "2     Caramel  More than one flavoured   disagree         neutral  \n",
       "3   Strawbery  More than one flavoured      agree           agree  \n",
       "4      Vanila         single flavoured      agree  Strongly agree  \n",
       "\n",
       "[5 rows x 24 columns]"
      ]
     },
     "execution_count": 6,
     "metadata": {},
     "output_type": "execute_result"
    }
   ],
   "source": [
    "df=pd.read_excel('datasets/mic.xlsx',\n",
    "                engine='openpyxl')\n",
    "df.head()"
   ]
  },
  {
   "cell_type": "code",
   "execution_count": 7,
   "metadata": {},
   "outputs": [
    {
     "data": {
      "text/html": [
       "<div>\n",
       "<style scoped>\n",
       "    .dataframe tbody tr th:only-of-type {\n",
       "        vertical-align: middle;\n",
       "    }\n",
       "\n",
       "    .dataframe tbody tr th {\n",
       "        vertical-align: top;\n",
       "    }\n",
       "\n",
       "    .dataframe thead th {\n",
       "        text-align: right;\n",
       "    }\n",
       "</style>\n",
       "<table border=\"1\" class=\"dataframe\">\n",
       "  <thead>\n",
       "    <tr style=\"text-align: right;\">\n",
       "      <th></th>\n",
       "      <th>Age</th>\n",
       "    </tr>\n",
       "  </thead>\n",
       "  <tbody>\n",
       "    <tr>\n",
       "      <th>21 - 30</th>\n",
       "      <td>37</td>\n",
       "    </tr>\n",
       "    <tr>\n",
       "      <th>&lt;=20</th>\n",
       "      <td>6</td>\n",
       "    </tr>\n",
       "    <tr>\n",
       "      <th>31 - 40</th>\n",
       "      <td>4</td>\n",
       "    </tr>\n",
       "    <tr>\n",
       "      <th>41 - 50</th>\n",
       "      <td>3</td>\n",
       "    </tr>\n",
       "  </tbody>\n",
       "</table>\n",
       "</div>"
      ],
      "text/plain": [
       "         Age\n",
       "21 - 30   37\n",
       "<=20       6\n",
       "31 - 40    4\n",
       "41 - 50    3"
      ]
     },
     "execution_count": 7,
     "metadata": {},
     "output_type": "execute_result"
    }
   ],
   "source": [
    "counts = df['Age'].value_counts()\n",
    "counts=counts.to_frame()\n",
    "counts\n"
   ]
  },
  {
   "cell_type": "code",
   "execution_count": 8,
   "metadata": {},
   "outputs": [
    {
     "data": {
      "text/html": [
       "<div>\n",
       "<style scoped>\n",
       "    .dataframe tbody tr th:only-of-type {\n",
       "        vertical-align: middle;\n",
       "    }\n",
       "\n",
       "    .dataframe tbody tr th {\n",
       "        vertical-align: top;\n",
       "    }\n",
       "\n",
       "    .dataframe thead th {\n",
       "        text-align: right;\n",
       "    }\n",
       "</style>\n",
       "<table border=\"1\" class=\"dataframe\">\n",
       "  <thead>\n",
       "    <tr style=\"text-align: right;\">\n",
       "      <th></th>\n",
       "      <th>Age</th>\n",
       "      <th>Total%</th>\n",
       "    </tr>\n",
       "  </thead>\n",
       "  <tbody>\n",
       "    <tr>\n",
       "      <th>21 - 30</th>\n",
       "      <td>37</td>\n",
       "      <td>74.0</td>\n",
       "    </tr>\n",
       "    <tr>\n",
       "      <th>&lt;=20</th>\n",
       "      <td>6</td>\n",
       "      <td>12.0</td>\n",
       "    </tr>\n",
       "    <tr>\n",
       "      <th>31 - 40</th>\n",
       "      <td>4</td>\n",
       "      <td>8.0</td>\n",
       "    </tr>\n",
       "    <tr>\n",
       "      <th>41 - 50</th>\n",
       "      <td>3</td>\n",
       "      <td>6.0</td>\n",
       "    </tr>\n",
       "  </tbody>\n",
       "</table>\n",
       "</div>"
      ],
      "text/plain": [
       "         Age  Total%\n",
       "21 - 30   37    74.0\n",
       "<=20       6    12.0\n",
       "31 - 40    4     8.0\n",
       "41 - 50    3     6.0"
      ]
     },
     "execution_count": 8,
     "metadata": {},
     "output_type": "execute_result"
    }
   ],
   "source": [
    "counts['Total%']= (counts.loc[:,'Age'])/counts.loc[:,'Age'].sum(axis=0)*100\n",
    "counts"
   ]
  },
  {
   "cell_type": "code",
   "execution_count": 9,
   "metadata": {},
   "outputs": [
    {
     "data": {
      "text/html": [
       "<div>\n",
       "<style scoped>\n",
       "    .dataframe tbody tr th:only-of-type {\n",
       "        vertical-align: middle;\n",
       "    }\n",
       "\n",
       "    .dataframe tbody tr th {\n",
       "        vertical-align: top;\n",
       "    }\n",
       "\n",
       "    .dataframe thead th {\n",
       "        text-align: right;\n",
       "    }\n",
       "</style>\n",
       "<table border=\"1\" class=\"dataframe\">\n",
       "  <thead>\n",
       "    <tr style=\"text-align: right;\">\n",
       "      <th></th>\n",
       "      <th>Age_group</th>\n",
       "      <th>Age</th>\n",
       "      <th>Total%</th>\n",
       "    </tr>\n",
       "  </thead>\n",
       "  <tbody>\n",
       "    <tr>\n",
       "      <th>0</th>\n",
       "      <td>21 - 30</td>\n",
       "      <td>37</td>\n",
       "      <td>74.0</td>\n",
       "    </tr>\n",
       "    <tr>\n",
       "      <th>1</th>\n",
       "      <td>&lt;=20</td>\n",
       "      <td>6</td>\n",
       "      <td>12.0</td>\n",
       "    </tr>\n",
       "    <tr>\n",
       "      <th>2</th>\n",
       "      <td>31 - 40</td>\n",
       "      <td>4</td>\n",
       "      <td>8.0</td>\n",
       "    </tr>\n",
       "    <tr>\n",
       "      <th>3</th>\n",
       "      <td>41 - 50</td>\n",
       "      <td>3</td>\n",
       "      <td>6.0</td>\n",
       "    </tr>\n",
       "  </tbody>\n",
       "</table>\n",
       "</div>"
      ],
      "text/plain": [
       "  Age_group  Age  Total%\n",
       "0   21 - 30   37    74.0\n",
       "1      <=20    6    12.0\n",
       "2   31 - 40    4     8.0\n",
       "3   41 - 50    3     6.0"
      ]
     },
     "execution_count": 9,
     "metadata": {},
     "output_type": "execute_result"
    }
   ],
   "source": [
    "counts.reset_index(inplace=True)\n",
    "counts.rename({\"index\":'Age_group'},\n",
    "            axis=1,\n",
    "            inplace=True)\n",
    "counts"
   ]
  },
  {
   "cell_type": "code",
   "execution_count": 10,
   "metadata": {},
   "outputs": [],
   "source": [
    "x=list(counts['Age_group'])\n",
    "y=list(counts['Total%'])\n"
   ]
  },
  {
   "cell_type": "code",
   "execution_count": 11,
   "metadata": {},
   "outputs": [],
   "source": [
    "type(y)\n",
    "mpl.style.use('ggplot')"
   ]
  },
  {
   "cell_type": "code",
   "execution_count": 12,
   "metadata": {},
   "outputs": [
    {
     "data": {
      "image/png": "[encoded data removed]",
      "text/plain": [
       "<Figure size 1080x432 with 2 Axes>"
      ]
     },
     "metadata": {},
     "output_type": "display_data"
    }
   ],
   "source": [
    "plt.subplot(1,2,1)\n",
    "plt.rcParams['figure.figsize']=(15,7)\n",
    "plt.bar(x,y,\n",
    "       width=0.5,\n",
    "       color='gold',\n",
    "       )\n",
    "plt.xlabel('Age group', fontweight='regular', color='red', fontsize=20, horizontalalignment='center')\n",
    "plt.ylabel('%Total',fontweight='regular', color='blue', fontsize=20, horizontalalignment='center')\n",
    "plt.xticks(fontsize=14)\n",
    "plt.yticks(fontsize=14)\n",
    "plt.title('Porcentaje de encuestados de diferentes edades', color='green')\n",
    "\n",
    "exp_distance=[.03, 0.05, 0.04, 0.05]\n",
    "fav_colors=['gold', 'salmon', 'skyblue', 'brown']\n",
    "plt.subplot(1,2,2)\n",
    "plt.rcParams['figure.figsize']=(15,7)\n",
    "counts['Total%'].plot(kind='pie',\n",
    "                     figsize=(15,6),\n",
    "                     autopct='%1.2f%%',\n",
    "                     colors=fav_colors,\n",
    "                     startangle=90,\n",
    "                     pctdistance=1.15,\n",
    "                     labels=None,\n",
    "                     explode=exp_distance,\n",
    "                     shadow=True\n",
    "                     )\n",
    "plt.axis('equal')\n",
    "plt.legend(labels=counts.Age_group, bbox_to_anchor=(1.0,1.0))\n",
    "plt.title('Porcentaje de encuestados de diferentes edades', color='salmon', y=1.05)\n",
    "plt.savefig('age_group.png')\n",
    "plt.show()"
   ]
  },
  {
   "cell_type": "code",
   "execution_count": 13,
   "metadata": {},
   "outputs": [
    {
     "data": {
      "text/plain": [
       "21 - 30    37\n",
       "<=20        6\n",
       "31 - 40     4\n",
       "41 - 50     3\n",
       "Name: Age, dtype: int64"
      ]
     },
     "execution_count": 13,
     "metadata": {},
     "output_type": "execute_result"
    }
   ],
   "source": [
    "age_por_genero=df['Age'].value_counts()\n",
    "age_por_genero"
   ]
  },
  {
   "cell_type": "code",
   "execution_count": 14,
   "metadata": {},
   "outputs": [
    {
     "data": {
      "text/plain": [
       "Age      Sex   \n",
       "21 - 30  Female    15\n",
       "         Male      22\n",
       "31 - 40  Female     2\n",
       "         Male       2\n",
       "41 - 50  Female     2\n",
       "         Male       1\n",
       "<=20     Female     3\n",
       "         Male       3\n",
       "dtype: int64"
      ]
     },
     "execution_count": 14,
     "metadata": {},
     "output_type": "execute_result"
    }
   ],
   "source": [
    "age_por_genero=df.groupby(['Age','Sex']).size()\n",
    "age_por_genero"
   ]
  },
  {
   "cell_type": "code",
   "execution_count": 15,
   "metadata": {},
   "outputs": [
    {
     "data": {
      "text/html": [
       "<div>\n",
       "<style scoped>\n",
       "    .dataframe tbody tr th:only-of-type {\n",
       "        vertical-align: middle;\n",
       "    }\n",
       "\n",
       "    .dataframe tbody tr th {\n",
       "        vertical-align: top;\n",
       "    }\n",
       "\n",
       "    .dataframe thead th {\n",
       "        text-align: right;\n",
       "    }\n",
       "</style>\n",
       "<table border=\"1\" class=\"dataframe\">\n",
       "  <thead>\n",
       "    <tr style=\"text-align: right;\">\n",
       "      <th></th>\n",
       "      <th>Age</th>\n",
       "      <th>Sex</th>\n",
       "      <th>Count</th>\n",
       "      <th>Age_sex</th>\n",
       "    </tr>\n",
       "  </thead>\n",
       "  <tbody>\n",
       "    <tr>\n",
       "      <th>0</th>\n",
       "      <td>21-30</td>\n",
       "      <td>Male</td>\n",
       "      <td>15</td>\n",
       "      <td>Male 21-30</td>\n",
       "    </tr>\n",
       "    <tr>\n",
       "      <th>1</th>\n",
       "      <td>21-30</td>\n",
       "      <td>Female</td>\n",
       "      <td>22</td>\n",
       "      <td>Female 21-30</td>\n",
       "    </tr>\n",
       "    <tr>\n",
       "      <th>2</th>\n",
       "      <td>31-40</td>\n",
       "      <td>Male</td>\n",
       "      <td>2</td>\n",
       "      <td>Male 31-40</td>\n",
       "    </tr>\n",
       "    <tr>\n",
       "      <th>3</th>\n",
       "      <td>31-40</td>\n",
       "      <td>Female</td>\n",
       "      <td>2</td>\n",
       "      <td>Female 31-40</td>\n",
       "    </tr>\n",
       "    <tr>\n",
       "      <th>4</th>\n",
       "      <td>41-50</td>\n",
       "      <td>Male</td>\n",
       "      <td>2</td>\n",
       "      <td>Male 41-50</td>\n",
       "    </tr>\n",
       "  </tbody>\n",
       "</table>\n",
       "</div>"
      ],
      "text/plain": [
       "     Age     Sex  Count       Age_sex\n",
       "0  21-30    Male     15    Male 21-30\n",
       "1  21-30  Female     22  Female 21-30\n",
       "2  31-40    Male      2    Male 31-40\n",
       "3  31-40  Female      2  Female 31-40\n",
       "4  41-50    Male      2    Male 41-50"
      ]
     },
     "execution_count": 15,
     "metadata": {},
     "output_type": "execute_result"
    }
   ],
   "source": [
    "ndf=pd.read_excel('datasets/Tabla.xlsx',\n",
    "                engine='openpyxl')\n",
    "ndf.head()"
   ]
  },
  {
   "cell_type": "code",
   "execution_count": 16,
   "metadata": {},
   "outputs": [],
   "source": [
    "w=list(ndf['Age_sex'])\n",
    "z=list(ndf['Count'])"
   ]
  },
  {
   "cell_type": "code",
   "execution_count": 21,
   "metadata": {},
   "outputs": [
    {
     "data": {
      "text/plain": [
       "Text(0.5, 1.05, 'Porcentaje de encuestados de diferentes edades y sexo')"
      ]
     },
     "execution_count": 21,
     "metadata": {},
     "output_type": "execute_result"
    },
    {
     "data": {
      "image/png": "[encoded data removed]",
      "text/plain": [
       "<Figure size 1080x432 with 2 Axes>"
      ]
     },
     "metadata": {},
     "output_type": "display_data"
    }
   ],
   "source": [
    "plt.subplot(1,2,1)\n",
    "plt.rcParams['figure.figsize']=(15,7)\n",
    "plt.bar(w,z,\n",
    "       width=0.5,\n",
    "       color='gold',\n",
    "       )\n",
    "plt.xlabel('Age and sex', fontweight='regular', color='red', fontsize=20, horizontalalignment='center')\n",
    "plt.ylabel('Count',fontweight='regular', color='blue', fontsize=20, horizontalalignment='center')\n",
    "plt.xticks(fontsize=14, rotation='vertical')\n",
    "plt.yticks(fontsize=14)\n",
    "plt.title('Porcentaje de encuestados de diferentes edades y sexo', color='green')\n",
    "\n",
    "exp_distance=[.03, 0.05, 0.04, 0.05,.04, .04, .04, .04]\n",
    "fav_colors=['gold', 'salmon', 'skyblue', 'brown']\n",
    "plt.subplot(1,2,2)\n",
    "plt.rcParams['figure.figsize']=(15,7)\n",
    "ndf['Count'].plot(kind='pie',\n",
    "                     figsize=(15,6),\n",
    "                     autopct='%1.2f%%',\n",
    "                     colors=fav_colors,\n",
    "                     startangle=90,\n",
    "                     pctdistance=1.15,\n",
    "                     labels=None,\n",
    "                     explode=exp_distance,\n",
    "                     shadow=True\n",
    "                     )\n",
    "plt.axis('equal')\n",
    "plt.legend(labels=ndf.Age_sex, bbox_to_anchor=(1.0,1.0))\n",
    "plt.title('Porcentaje de encuestados de diferentes edades y sexo', color='salmon', y=1.05)\n",
    "\n"
   ]
  },
  {
   "cell_type": "code",
   "execution_count": null,
   "metadata": {},
   "outputs": [],
   "source": []
  }
 ],
 "metadata": {
  "kernelspec": {
   "display_name": "Python 3 (ipykernel)",
   "language": "python",
   "name": "python3"
  },
  "language_info": {
   "codemirror_mode": {
    "name": "ipython",
    "version": 3
   },
   "file_extension": ".py",
   "mimetype": "text/x-python",
   "name": "python",
   "nbconvert_exporter": "python",
   "pygments_lexer": "ipython3",
   "version": "3.8.12"
  }
 },
 "nbformat": 4,
 "nbformat_minor": 4
}
