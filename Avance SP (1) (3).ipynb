{
 "cells": [
  {
   "cell_type": "markdown",
   "metadata": {},
   "source": [
    "# Welcome to an example Binder"
   ]
  },
  {
   "cell_type": "markdown",
   "metadata": {},
   "source": [
    "We need `seaborn`, which shall be included it in `requirements.txt` file"
   ]
  },
  {
   "cell_type": "code",
   "execution_count": 1,
   "metadata": {},
   "outputs": [],
   "source": [
    "import pandas as pd\n",
    "import numpy as np\n",
    "import seaborn as sns\n",
    "import matplotlib.pyplot as plt\n",
    "import statsmodels.api as sm\n",
    "import statsmodels.formula.api as smf"
   ]
  },
  {
   "cell_type": "code",
   "execution_count": 2,
   "metadata": {},
   "outputs": [
    {
     "name": "stdout",
     "output_type": "stream",
     "text": [
      "Requirement already satisfied: openpyxl in /srv/conda/envs/notebook/lib/python3.8/site-packages (3.0.9)\n",
      "Requirement already satisfied: et-xmlfile in /srv/conda/envs/notebook/lib/python3.8/site-packages (from openpyxl) (1.1.0)\n",
      "Note: you may need to restart the kernel to use updated packages.\n"
     ]
    }
   ],
   "source": [
    "pip install openpyxl"
   ]
  },
  {
   "cell_type": "code",
   "execution_count": 3,
   "metadata": {},
   "outputs": [
    {
     "name": "stdout",
     "output_type": "stream",
     "text": [
      "Requirement already satisfied: statsmodels in /srv/conda/envs/notebook/lib/python3.8/site-packages (0.13.0)\n",
      "Requirement already satisfied: numpy>=1.17 in /srv/conda/envs/notebook/lib/python3.8/site-packages (from statsmodels) (1.18.5)\n",
      "Requirement already satisfied: pandas>=0.25 in /srv/conda/envs/notebook/lib/python3.8/site-packages (from statsmodels) (1.0.4)\n",
      "Requirement already satisfied: scipy>=1.3 in /srv/conda/envs/notebook/lib/python3.8/site-packages (from statsmodels) (1.4.1)\n",
      "Requirement already satisfied: patsy>=0.5.2 in /srv/conda/envs/notebook/lib/python3.8/site-packages (from statsmodels) (0.5.2)\n",
      "Requirement already satisfied: python-dateutil>=2.6.1 in /srv/conda/envs/notebook/lib/python3.8/site-packages (from pandas>=0.25->statsmodels) (2.8.1)\n",
      "Requirement already satisfied: pytz>=2017.2 in /srv/conda/envs/notebook/lib/python3.8/site-packages (from pandas>=0.25->statsmodels) (2020.1)\n",
      "Requirement already satisfied: six in /srv/conda/envs/notebook/lib/python3.8/site-packages (from patsy>=0.5.2->statsmodels) (1.15.0)\n",
      "Note: you may need to restart the kernel to use updated packages.\n"
     ]
    }
   ],
   "source": [
    "pip install statsmodels"
   ]
  },
  {
   "cell_type": "code",
   "execution_count": 4,
   "metadata": {},
   "outputs": [
    {
     "name": "stdout",
     "output_type": "stream",
     "text": [
      "Requirement already satisfied: xlrd in /srv/conda/envs/notebook/lib/python3.8/site-packages (2.0.1)\n",
      "Note: you may need to restart the kernel to use updated packages.\n"
     ]
    }
   ],
   "source": [
    "pip install xlrd"
   ]
  },
  {
   "cell_type": "code",
   "execution_count": 5,
   "metadata": {},
   "outputs": [
    {
     "name": "stdout",
     "output_type": "stream",
     "text": [
      " adult.csv                                 cwurData.csv\r\n",
      " airline_data.csv                          data.csv\r\n",
      " antropometria00.csv                       headbrain.csv\r\n",
      " antropometria-dataset.csv                 mic.xlsx\r\n",
      " antropometria-dataset.xlsx                movies.csv\r\n",
      " BD.xlsx                                   nhanes_2015_2016.csv\r\n",
      " Canada.xlsx                               pokemon.csv\r\n",
      " Cartwheeldata.csv                         sample_pivot.csv\r\n",
      " census.csv                                Tabla.xlsx\r\n",
      "'Clase graficas de pastel (1) (1).ipynb'   tips.csv\r\n",
      "'Clase graficas de pastel (2).ipynb'       weight-height.csv\r\n"
     ]
    }
   ],
   "source": [
    "%ls datasets/"
   ]
  },
  {
   "cell_type": "code",
   "execution_count": 6,
   "metadata": {},
   "outputs": [
    {
     "data": {
      "text/html": [
       "<div>\n",
       "<style scoped>\n",
       "    .dataframe tbody tr th:only-of-type {\n",
       "        vertical-align: middle;\n",
       "    }\n",
       "\n",
       "    .dataframe tbody tr th {\n",
       "        vertical-align: top;\n",
       "    }\n",
       "\n",
       "    .dataframe thead th {\n",
       "        text-align: right;\n",
       "    }\n",
       "</style>\n",
       "<table border=\"1\" class=\"dataframe\">\n",
       "  <thead>\n",
       "    <tr style=\"text-align: right;\">\n",
       "      <th></th>\n",
       "      <th>Unnamed: 0</th>\n",
       "      <th>Temperatura</th>\n",
       "      <th>Voltaje</th>\n",
       "      <th>Ángulo</th>\n",
       "      <th>Velocidad</th>\n",
       "      <th>% carbón</th>\n",
       "      <th>Robot</th>\n",
       "      <th>Diámetro promedio</th>\n",
       "    </tr>\n",
       "  </thead>\n",
       "  <tbody>\n",
       "    <tr>\n",
       "      <th>0</th>\n",
       "      <td>1</td>\n",
       "      <td>97.1</td>\n",
       "      <td>16.7</td>\n",
       "      <td>38.9</td>\n",
       "      <td>5</td>\n",
       "      <td>10</td>\n",
       "      <td>1</td>\n",
       "      <td>195.415</td>\n",
       "    </tr>\n",
       "    <tr>\n",
       "      <th>1</th>\n",
       "      <td>2</td>\n",
       "      <td>108.0</td>\n",
       "      <td>29.5</td>\n",
       "      <td>68.7</td>\n",
       "      <td>10</td>\n",
       "      <td>21</td>\n",
       "      <td>1</td>\n",
       "      <td>71.995</td>\n",
       "    </tr>\n",
       "    <tr>\n",
       "      <th>2</th>\n",
       "      <td>3</td>\n",
       "      <td>92.3</td>\n",
       "      <td>27.0</td>\n",
       "      <td>62.9</td>\n",
       "      <td>7</td>\n",
       "      <td>13</td>\n",
       "      <td>1</td>\n",
       "      <td>102.980</td>\n",
       "    </tr>\n",
       "    <tr>\n",
       "      <th>3</th>\n",
       "      <td>4</td>\n",
       "      <td>131.7</td>\n",
       "      <td>22.2</td>\n",
       "      <td>51.7</td>\n",
       "      <td>6</td>\n",
       "      <td>30</td>\n",
       "      <td>1</td>\n",
       "      <td>186.680</td>\n",
       "    </tr>\n",
       "    <tr>\n",
       "      <th>4</th>\n",
       "      <td>5</td>\n",
       "      <td>81.2</td>\n",
       "      <td>15.8</td>\n",
       "      <td>36.8</td>\n",
       "      <td>9</td>\n",
       "      <td>15</td>\n",
       "      <td>1</td>\n",
       "      <td>127.680</td>\n",
       "    </tr>\n",
       "    <tr>\n",
       "      <th>...</th>\n",
       "      <td>...</td>\n",
       "      <td>...</td>\n",
       "      <td>...</td>\n",
       "      <td>...</td>\n",
       "      <td>...</td>\n",
       "      <td>...</td>\n",
       "      <td>...</td>\n",
       "      <td>...</td>\n",
       "    </tr>\n",
       "    <tr>\n",
       "      <th>63</th>\n",
       "      <td>64</td>\n",
       "      <td>89.7</td>\n",
       "      <td>28.2</td>\n",
       "      <td>65.7</td>\n",
       "      <td>10</td>\n",
       "      <td>21</td>\n",
       "      <td>3</td>\n",
       "      <td>58.440</td>\n",
       "    </tr>\n",
       "    <tr>\n",
       "      <th>64</th>\n",
       "      <td>65</td>\n",
       "      <td>88.6</td>\n",
       "      <td>25.8</td>\n",
       "      <td>60.1</td>\n",
       "      <td>6</td>\n",
       "      <td>25</td>\n",
       "      <td>3</td>\n",
       "      <td>120.460</td>\n",
       "    </tr>\n",
       "    <tr>\n",
       "      <th>65</th>\n",
       "      <td>66</td>\n",
       "      <td>154.4</td>\n",
       "      <td>13.0</td>\n",
       "      <td>30.3</td>\n",
       "      <td>10</td>\n",
       "      <td>10</td>\n",
       "      <td>3</td>\n",
       "      <td>208.790</td>\n",
       "    </tr>\n",
       "    <tr>\n",
       "      <th>66</th>\n",
       "      <td>67</td>\n",
       "      <td>121.7</td>\n",
       "      <td>24.4</td>\n",
       "      <td>56.9</td>\n",
       "      <td>7</td>\n",
       "      <td>30</td>\n",
       "      <td>3</td>\n",
       "      <td>152.900</td>\n",
       "    </tr>\n",
       "    <tr>\n",
       "      <th>67</th>\n",
       "      <td>68</td>\n",
       "      <td>86.8</td>\n",
       "      <td>25.6</td>\n",
       "      <td>59.6</td>\n",
       "      <td>4</td>\n",
       "      <td>13</td>\n",
       "      <td>3</td>\n",
       "      <td>147.980</td>\n",
       "    </tr>\n",
       "  </tbody>\n",
       "</table>\n",
       "<p>68 rows × 8 columns</p>\n",
       "</div>"
      ],
      "text/plain": [
       "    Unnamed: 0  Temperatura  Voltaje  Ángulo  Velocidad  % carbón  Robot  \\\n",
       "0            1         97.1     16.7    38.9          5        10      1   \n",
       "1            2        108.0     29.5    68.7         10        21      1   \n",
       "2            3         92.3     27.0    62.9          7        13      1   \n",
       "3            4        131.7     22.2    51.7          6        30      1   \n",
       "4            5         81.2     15.8    36.8          9        15      1   \n",
       "..         ...          ...      ...     ...        ...       ...    ...   \n",
       "63          64         89.7     28.2    65.7         10        21      3   \n",
       "64          65         88.6     25.8    60.1          6        25      3   \n",
       "65          66        154.4     13.0    30.3         10        10      3   \n",
       "66          67        121.7     24.4    56.9          7        30      3   \n",
       "67          68         86.8     25.6    59.6          4        13      3   \n",
       "\n",
       "    Diámetro promedio  \n",
       "0             195.415  \n",
       "1              71.995  \n",
       "2             102.980  \n",
       "3             186.680  \n",
       "4             127.680  \n",
       "..                ...  \n",
       "63             58.440  \n",
       "64            120.460  \n",
       "65            208.790  \n",
       "66            152.900  \n",
       "67            147.980  \n",
       "\n",
       "[68 rows x 8 columns]"
      ]
     },
     "execution_count": 6,
     "metadata": {},
     "output_type": "execute_result"
    }
   ],
   "source": [
    "df=pd.read_excel('datasets/BD.xlsx',\n",
    "               sheet_name='Sheet1',\n",
    "               engine='openpyxl'\n",
    "              )\n",
    "df"
   ]
  },
  {
   "cell_type": "code",
   "execution_count": 7,
   "metadata": {},
   "outputs": [
    {
     "data": {
      "text/plain": [
       "Index(['Unnamed: 0', 'Temperatura', 'Voltaje', 'Ángulo', 'Velocidad',\n",
       "       '% carbón', 'Robot', 'Diámetro promedio'],\n",
       "      dtype='object')"
      ]
     },
     "execution_count": 7,
     "metadata": {},
     "output_type": "execute_result"
    }
   ],
   "source": [
    "df.columns"
   ]
  },
  {
   "cell_type": "code",
   "execution_count": 8,
   "metadata": {},
   "outputs": [
    {
     "data": {
      "text/html": [
       "<div>\n",
       "<style scoped>\n",
       "    .dataframe tbody tr th:only-of-type {\n",
       "        vertical-align: middle;\n",
       "    }\n",
       "\n",
       "    .dataframe tbody tr th {\n",
       "        vertical-align: top;\n",
       "    }\n",
       "\n",
       "    .dataframe thead th {\n",
       "        text-align: right;\n",
       "    }\n",
       "</style>\n",
       "<table border=\"1\" class=\"dataframe\">\n",
       "  <thead>\n",
       "    <tr style=\"text-align: right;\">\n",
       "      <th></th>\n",
       "      <th>Temperatura</th>\n",
       "      <th>Voltaje</th>\n",
       "      <th>Ángulo</th>\n",
       "      <th>Velocidad</th>\n",
       "      <th>% carbón</th>\n",
       "      <th>Robot</th>\n",
       "      <th>Diámetro promedio</th>\n",
       "    </tr>\n",
       "    <tr>\n",
       "      <th>Unnamed: 0</th>\n",
       "      <th></th>\n",
       "      <th></th>\n",
       "      <th></th>\n",
       "      <th></th>\n",
       "      <th></th>\n",
       "      <th></th>\n",
       "      <th></th>\n",
       "    </tr>\n",
       "  </thead>\n",
       "  <tbody>\n",
       "    <tr>\n",
       "      <th>1</th>\n",
       "      <td>97.1</td>\n",
       "      <td>16.7</td>\n",
       "      <td>38.9</td>\n",
       "      <td>5</td>\n",
       "      <td>10</td>\n",
       "      <td>1</td>\n",
       "      <td>195.415</td>\n",
       "    </tr>\n",
       "    <tr>\n",
       "      <th>2</th>\n",
       "      <td>108.0</td>\n",
       "      <td>29.5</td>\n",
       "      <td>68.7</td>\n",
       "      <td>10</td>\n",
       "      <td>21</td>\n",
       "      <td>1</td>\n",
       "      <td>71.995</td>\n",
       "    </tr>\n",
       "    <tr>\n",
       "      <th>3</th>\n",
       "      <td>92.3</td>\n",
       "      <td>27.0</td>\n",
       "      <td>62.9</td>\n",
       "      <td>7</td>\n",
       "      <td>13</td>\n",
       "      <td>1</td>\n",
       "      <td>102.980</td>\n",
       "    </tr>\n",
       "    <tr>\n",
       "      <th>4</th>\n",
       "      <td>131.7</td>\n",
       "      <td>22.2</td>\n",
       "      <td>51.7</td>\n",
       "      <td>6</td>\n",
       "      <td>30</td>\n",
       "      <td>1</td>\n",
       "      <td>186.680</td>\n",
       "    </tr>\n",
       "    <tr>\n",
       "      <th>5</th>\n",
       "      <td>81.2</td>\n",
       "      <td>15.8</td>\n",
       "      <td>36.8</td>\n",
       "      <td>9</td>\n",
       "      <td>15</td>\n",
       "      <td>1</td>\n",
       "      <td>127.680</td>\n",
       "    </tr>\n",
       "  </tbody>\n",
       "</table>\n",
       "</div>"
      ],
      "text/plain": [
       "            Temperatura  Voltaje  Ángulo  Velocidad  % carbón  Robot  \\\n",
       "Unnamed: 0                                                             \n",
       "1                  97.1     16.7    38.9          5        10      1   \n",
       "2                 108.0     29.5    68.7         10        21      1   \n",
       "3                  92.3     27.0    62.9          7        13      1   \n",
       "4                 131.7     22.2    51.7          6        30      1   \n",
       "5                  81.2     15.8    36.8          9        15      1   \n",
       "\n",
       "            Diámetro promedio  \n",
       "Unnamed: 0                     \n",
       "1                     195.415  \n",
       "2                      71.995  \n",
       "3                     102.980  \n",
       "4                     186.680  \n",
       "5                     127.680  "
      ]
     },
     "execution_count": 8,
     "metadata": {},
     "output_type": "execute_result"
    }
   ],
   "source": [
    "df.set_index('Unnamed: 0', inplace=True)\n",
    "df.head()"
   ]
  },
  {
   "cell_type": "code",
   "execution_count": 9,
   "metadata": {},
   "outputs": [
    {
     "data": {
      "text/plain": [
       "Text(0.5, 1.0, 'Scatter plot of Voltaje vs Diametro promedio')"
      ]
     },
     "execution_count": 9,
     "metadata": {},
     "output_type": "execute_result"
    },
    {
     "data": {
      "image/png": "[encoded data removed]",
      "text/plain": [
       "<Figure size 360x360 with 1 Axes>"
      ]
     },
     "metadata": {
      "needs_background": "light"
     },
     "output_type": "display_data"
    }
   ],
   "source": [
    "\n",
    "sns.lmplot(x='Voltaje',\n",
    "           y='Diámetro promedio',\n",
    "           data=df,\n",
    "           fit_reg=True,\n",
    "          )\n",
    "plt.title('Scatter plot of Voltaje vs Diametro promedio')\n"
   ]
  },
  {
   "cell_type": "code",
   "execution_count": 10,
   "metadata": {},
   "outputs": [
    {
     "data": {
      "text/plain": [
       "Text(0.5, 1.0, 'Scatter plot of Ángulo vs Diametro promedio')"
      ]
     },
     "execution_count": 10,
     "metadata": {},
     "output_type": "execute_result"
    },
    {
     "data": {
      "image/png": "[encoded data removed]",
      "text/plain": [
       "<Figure size 360x360 with 1 Axes>"
      ]
     },
     "metadata": {
      "needs_background": "light"
     },
     "output_type": "display_data"
    }
   ],
   "source": [
    "sns.lmplot(x='Ángulo',\n",
    "           y='Diámetro promedio',\n",
    "           data=df,\n",
    "           fit_reg=True,\n",
    "          )\n",
    "plt.title('Scatter plot of Ángulo vs Diametro promedio')"
   ]
  },
  {
   "cell_type": "code",
   "execution_count": 11,
   "metadata": {},
   "outputs": [
    {
     "data": {
      "text/plain": [
       "Text(0.5, 1.0, 'Scatter plot of Voltaje vs Ángulo')"
      ]
     },
     "execution_count": 11,
     "metadata": {},
     "output_type": "execute_result"
    },
    {
     "data": {
      "image/png": "[encoded data removed]",
      "text/plain": [
       "<Figure size 360x360 with 1 Axes>"
      ]
     },
     "metadata": {
      "needs_background": "light"
     },
     "output_type": "display_data"
    }
   ],
   "source": [
    "sns.lmplot(x='Voltaje',\n",
    "           y='Ángulo',\n",
    "           data=df,\n",
    "           fit_reg=True,\n",
    "          )\n",
    "plt.title('Scatter plot of Voltaje vs Ángulo')"
   ]
  },
  {
   "cell_type": "code",
   "execution_count": 12,
   "metadata": {},
   "outputs": [
    {
     "name": "stdout",
     "output_type": "stream",
     "text": [
      "<class 'pandas.core.frame.DataFrame'>\n",
      "Int64Index: 68 entries, 1 to 68\n",
      "Data columns (total 7 columns):\n",
      " #   Column             Non-Null Count  Dtype  \n",
      "---  ------             --------------  -----  \n",
      " 0   Temperatura        68 non-null     float64\n",
      " 1   Voltaje            68 non-null     float64\n",
      " 2   Ángulo             68 non-null     float64\n",
      " 3   Velocidad          68 non-null     int64  \n",
      " 4   % carbón           68 non-null     int64  \n",
      " 5   Robot              68 non-null     int64  \n",
      " 6   Diámetro promedio  68 non-null     float64\n",
      "dtypes: float64(4), int64(3)\n",
      "memory usage: 4.2 KB\n"
     ]
    }
   ],
   "source": [
    "df.info(verbose=True)"
   ]
  },
  {
   "cell_type": "code",
   "execution_count": 13,
   "metadata": {},
   "outputs": [
    {
     "data": {
      "text/html": [
       "<div>\n",
       "<style scoped>\n",
       "    .dataframe tbody tr th:only-of-type {\n",
       "        vertical-align: middle;\n",
       "    }\n",
       "\n",
       "    .dataframe tbody tr th {\n",
       "        vertical-align: top;\n",
       "    }\n",
       "\n",
       "    .dataframe thead th {\n",
       "        text-align: right;\n",
       "    }\n",
       "</style>\n",
       "<table border=\"1\" class=\"dataframe\">\n",
       "  <thead>\n",
       "    <tr style=\"text-align: right;\">\n",
       "      <th></th>\n",
       "      <th>Temperatura</th>\n",
       "      <th>Voltaje</th>\n",
       "      <th>Ángulo</th>\n",
       "      <th>Velocidad</th>\n",
       "      <th>% carbón</th>\n",
       "      <th>Robot</th>\n",
       "      <th>Diámetro promedio</th>\n",
       "    </tr>\n",
       "  </thead>\n",
       "  <tbody>\n",
       "    <tr>\n",
       "      <th>count</th>\n",
       "      <td>68.000000</td>\n",
       "      <td>68.000000</td>\n",
       "      <td>68.000000</td>\n",
       "      <td>68.000000</td>\n",
       "      <td>68.000000</td>\n",
       "      <td>68.000000</td>\n",
       "      <td>68.000000</td>\n",
       "    </tr>\n",
       "    <tr>\n",
       "      <th>mean</th>\n",
       "      <td>97.057353</td>\n",
       "      <td>21.327941</td>\n",
       "      <td>49.691176</td>\n",
       "      <td>6.294118</td>\n",
       "      <td>17.970588</td>\n",
       "      <td>1.823529</td>\n",
       "      <td>149.498603</td>\n",
       "    </tr>\n",
       "    <tr>\n",
       "      <th>std</th>\n",
       "      <td>16.253682</td>\n",
       "      <td>5.961114</td>\n",
       "      <td>13.885209</td>\n",
       "      <td>2.331221</td>\n",
       "      <td>7.066783</td>\n",
       "      <td>0.827533</td>\n",
       "      <td>47.761947</td>\n",
       "    </tr>\n",
       "    <tr>\n",
       "      <th>min</th>\n",
       "      <td>55.200000</td>\n",
       "      <td>10.400000</td>\n",
       "      <td>24.200000</td>\n",
       "      <td>1.000000</td>\n",
       "      <td>10.000000</td>\n",
       "      <td>1.000000</td>\n",
       "      <td>58.440000</td>\n",
       "    </tr>\n",
       "    <tr>\n",
       "      <th>25%</th>\n",
       "      <td>87.775000</td>\n",
       "      <td>16.500000</td>\n",
       "      <td>38.400000</td>\n",
       "      <td>5.000000</td>\n",
       "      <td>13.000000</td>\n",
       "      <td>1.000000</td>\n",
       "      <td>119.131250</td>\n",
       "    </tr>\n",
       "    <tr>\n",
       "      <th>50%</th>\n",
       "      <td>95.500000</td>\n",
       "      <td>21.150000</td>\n",
       "      <td>49.300000</td>\n",
       "      <td>6.000000</td>\n",
       "      <td>15.000000</td>\n",
       "      <td>2.000000</td>\n",
       "      <td>142.562500</td>\n",
       "    </tr>\n",
       "    <tr>\n",
       "      <th>75%</th>\n",
       "      <td>103.400000</td>\n",
       "      <td>27.025000</td>\n",
       "      <td>62.950000</td>\n",
       "      <td>8.000000</td>\n",
       "      <td>21.000000</td>\n",
       "      <td>3.000000</td>\n",
       "      <td>187.206250</td>\n",
       "    </tr>\n",
       "    <tr>\n",
       "      <th>max</th>\n",
       "      <td>154.400000</td>\n",
       "      <td>30.000000</td>\n",
       "      <td>69.900000</td>\n",
       "      <td>12.000000</td>\n",
       "      <td>30.000000</td>\n",
       "      <td>3.000000</td>\n",
       "      <td>257.370000</td>\n",
       "    </tr>\n",
       "  </tbody>\n",
       "</table>\n",
       "</div>"
      ],
      "text/plain": [
       "       Temperatura    Voltaje     Ángulo  Velocidad   % carbón      Robot  \\\n",
       "count    68.000000  68.000000  68.000000  68.000000  68.000000  68.000000   \n",
       "mean     97.057353  21.327941  49.691176   6.294118  17.970588   1.823529   \n",
       "std      16.253682   5.961114  13.885209   2.331221   7.066783   0.827533   \n",
       "min      55.200000  10.400000  24.200000   1.000000  10.000000   1.000000   \n",
       "25%      87.775000  16.500000  38.400000   5.000000  13.000000   1.000000   \n",
       "50%      95.500000  21.150000  49.300000   6.000000  15.000000   2.000000   \n",
       "75%     103.400000  27.025000  62.950000   8.000000  21.000000   3.000000   \n",
       "max     154.400000  30.000000  69.900000  12.000000  30.000000   3.000000   \n",
       "\n",
       "       Diámetro promedio  \n",
       "count          68.000000  \n",
       "mean          149.498603  \n",
       "std            47.761947  \n",
       "min            58.440000  \n",
       "25%           119.131250  \n",
       "50%           142.562500  \n",
       "75%           187.206250  \n",
       "max           257.370000  "
      ]
     },
     "execution_count": 13,
     "metadata": {},
     "output_type": "execute_result"
    }
   ],
   "source": [
    "df.describe()"
   ]
  },
  {
   "cell_type": "code",
   "execution_count": 14,
   "metadata": {},
   "outputs": [
    {
     "data": {
      "text/plain": [
       "Text(0.5, 1.0, 'Boxplot')"
      ]
     },
     "execution_count": 14,
     "metadata": {},
     "output_type": "execute_result"
    },
    {
     "data": {
      "image/png": "[encoded data removed]",
      "text/plain": [
       "<Figure size 432x288 with 1 Axes>"
      ]
     },
     "metadata": {
      "needs_background": "light"
     },
     "output_type": "display_data"
    }
   ],
   "source": [
    "sns.boxplot(data=df.loc[:,['Temperatura', 'Voltaje', 'Ángulo', 'Velocidad',\n",
    "       '% carbón']]),\n",
    "                        \n",
    "plt.title('Boxplot')"
   ]
  },
  {
   "cell_type": "code",
   "execution_count": 30,
   "metadata": {},
   "outputs": [],
   "source": [
    "x=lista\n",
    "y= df['Diámetro promedio']"
   ]
  },
  {
   "cell_type": "code",
   "execution_count": 31,
   "metadata": {},
   "outputs": [
    {
     "data": {
      "text/html": [
       "<table class=\"simpletable\">\n",
       "<caption>OLS Regression Results</caption>\n",
       "<tr>\n",
       "  <th>Dep. Variable:</th>            <td>y</td>        <th>  R-squared:         </th> <td>   0.997</td>\n",
       "</tr>\n",
       "<tr>\n",
       "  <th>Model:</th>                   <td>OLS</td>       <th>  Adj. R-squared:    </th> <td>   0.997</td>\n",
       "</tr>\n",
       "<tr>\n",
       "  <th>Method:</th>             <td>Least Squares</td>  <th>  F-statistic:       </th> <td>   3953.</td>\n",
       "</tr>\n",
       "<tr>\n",
       "  <th>Date:</th>             <td>Fri, 15 Oct 2021</td> <th>  Prob (F-statistic):</th> <td>4.87e-77</td>\n",
       "</tr>\n",
       "<tr>\n",
       "  <th>Time:</th>                 <td>02:50:42</td>     <th>  Log-Likelihood:    </th> <td> -156.06</td>\n",
       "</tr>\n",
       "<tr>\n",
       "  <th>No. Observations:</th>      <td>    68</td>      <th>  AIC:               </th> <td>   326.1</td>\n",
       "</tr>\n",
       "<tr>\n",
       "  <th>Df Residuals:</th>          <td>    61</td>      <th>  BIC:               </th> <td>   341.7</td>\n",
       "</tr>\n",
       "<tr>\n",
       "  <th>Df Model:</th>              <td>     6</td>      <th>                     </th>     <td> </td>   \n",
       "</tr>\n",
       "<tr>\n",
       "  <th>Covariance Type:</th>      <td>nonrobust</td>    <th>                     </th>     <td> </td>   \n",
       "</tr>\n",
       "</table>\n",
       "<table class=\"simpletable\">\n",
       "<tr>\n",
       "      <td></td>         <th>coef</th>     <th>std err</th>      <th>t</th>      <th>P>|t|</th>  <th>[0.025</th>    <th>0.975]</th>  \n",
       "</tr>\n",
       "<tr>\n",
       "  <th>Intercept</th> <td>  235.9134</td> <td>    2.571</td> <td>   91.746</td> <td> 0.000</td> <td>  230.772</td> <td>  241.055</td>\n",
       "</tr>\n",
       "<tr>\n",
       "  <th>x[0]</th>      <td>    1.1015</td> <td>    0.020</td> <td>   54.360</td> <td> 0.000</td> <td>    1.061</td> <td>    1.142</td>\n",
       "</tr>\n",
       "<tr>\n",
       "  <th>x[1]</th>      <td>  -14.3562</td> <td>   26.897</td> <td>   -0.534</td> <td> 0.595</td> <td>  -68.140</td> <td>   39.428</td>\n",
       "</tr>\n",
       "<tr>\n",
       "  <th>x[2]</th>      <td>    3.9315</td> <td>   11.548</td> <td>    0.340</td> <td> 0.735</td> <td>  -19.161</td> <td>   27.024</td>\n",
       "</tr>\n",
       "<tr>\n",
       "  <th>x[3]</th>      <td>  -12.9060</td> <td>    0.139</td> <td>  -92.557</td> <td> 0.000</td> <td>  -13.185</td> <td>  -12.627</td>\n",
       "</tr>\n",
       "<tr>\n",
       "  <th>x[4]</th>      <td>   -0.0844</td> <td>    0.046</td> <td>   -1.840</td> <td> 0.071</td> <td>   -0.176</td> <td>    0.007</td>\n",
       "</tr>\n",
       "<tr>\n",
       "  <th>x[5]</th>      <td>    0.1390</td> <td>    0.388</td> <td>    0.358</td> <td> 0.722</td> <td>   -0.637</td> <td>    0.915</td>\n",
       "</tr>\n",
       "</table>\n",
       "<table class=\"simpletable\">\n",
       "<tr>\n",
       "  <th>Omnibus:</th>       <td> 6.551</td> <th>  Durbin-Watson:     </th> <td>   1.524</td>\n",
       "</tr>\n",
       "<tr>\n",
       "  <th>Prob(Omnibus):</th> <td> 0.038</td> <th>  Jarque-Bera (JB):  </th> <td>   2.533</td>\n",
       "</tr>\n",
       "<tr>\n",
       "  <th>Skew:</th>          <td>-0.004</td> <th>  Prob(JB):          </th> <td>   0.282</td>\n",
       "</tr>\n",
       "<tr>\n",
       "  <th>Kurtosis:</th>      <td> 2.055</td> <th>  Cond. No.          </th> <td>1.08e+04</td>\n",
       "</tr>\n",
       "</table><br/><br/>Notes:<br/>[1] Standard Errors assume that the covariance matrix of the errors is correctly specified.<br/>[2] The condition number is large, 1.08e+04. This might indicate that there are<br/>strong multicollinearity or other numerical problems."
      ],
      "text/plain": [
       "<class 'statsmodels.iolib.summary.Summary'>\n",
       "\"\"\"\n",
       "                            OLS Regression Results                            \n",
       "==============================================================================\n",
       "Dep. Variable:                      y   R-squared:                       0.997\n",
       "Model:                            OLS   Adj. R-squared:                  0.997\n",
       "Method:                 Least Squares   F-statistic:                     3953.\n",
       "Date:                Fri, 15 Oct 2021   Prob (F-statistic):           4.87e-77\n",
       "Time:                        02:50:42   Log-Likelihood:                -156.06\n",
       "No. Observations:                  68   AIC:                             326.1\n",
       "Df Residuals:                      61   BIC:                             341.7\n",
       "Df Model:                           6                                         \n",
       "Covariance Type:            nonrobust                                         \n",
       "==============================================================================\n",
       "                 coef    std err          t      P>|t|      [0.025      0.975]\n",
       "------------------------------------------------------------------------------\n",
       "Intercept    235.9134      2.571     91.746      0.000     230.772     241.055\n",
       "x[0]           1.1015      0.020     54.360      0.000       1.061       1.142\n",
       "x[1]         -14.3562     26.897     -0.534      0.595     -68.140      39.428\n",
       "x[2]           3.9315     11.548      0.340      0.735     -19.161      27.024\n",
       "x[3]         -12.9060      0.139    -92.557      0.000     -13.185     -12.627\n",
       "x[4]          -0.0844      0.046     -1.840      0.071      -0.176       0.007\n",
       "x[5]           0.1390      0.388      0.358      0.722      -0.637       0.915\n",
       "==============================================================================\n",
       "Omnibus:                        6.551   Durbin-Watson:                   1.524\n",
       "Prob(Omnibus):                  0.038   Jarque-Bera (JB):                2.533\n",
       "Skew:                          -0.004   Prob(JB):                        0.282\n",
       "Kurtosis:                       2.055   Cond. No.                     1.08e+04\n",
       "==============================================================================\n",
       "\n",
       "Notes:\n",
       "[1] Standard Errors assume that the covariance matrix of the errors is correctly specified.\n",
       "[2] The condition number is large, 1.08e+04. This might indicate that there are\n",
       "strong multicollinearity or other numerical problems.\n",
       "\"\"\""
      ]
     },
     "execution_count": 31,
     "metadata": {},
     "output_type": "execute_result"
    }
   ],
   "source": [
    "\n",
    "model=sm.OLS.from_formula('y~x',\n",
    "                         data=df)\n",
    "result=model.fit()\n",
    "result.summary()"
   ]
  },
  {
   "cell_type": "code",
   "execution_count": 36,
   "metadata": {},
   "outputs": [
    {
     "data": {
      "text/plain": [
       "array([[1.        , 0.97234474, 0.96047096, ..., 0.97502091, 0.98947958,\n",
       "        0.95870787],\n",
       "       [0.97234474, 1.        , 0.99686801, ..., 0.89748221, 0.97853922,\n",
       "        0.99538318],\n",
       "       [0.96047096, 0.99686801, 1.        , ..., 0.87541034, 0.9615008 ,\n",
       "        0.99899644],\n",
       "       ...,\n",
       "       [0.97502091, 0.89748221, 0.87541034, ..., 1.        , 0.95224869,\n",
       "        0.87201905],\n",
       "       [0.98947958, 0.97853922, 0.9615008 , ..., 0.95224869, 1.        ,\n",
       "        0.96167102],\n",
       "       [0.95870787, 0.99538318, 0.99899644, ..., 0.87201905, 0.96167102,\n",
       "        1.        ]])"
      ]
     },
     "execution_count": 36,
     "metadata": {},
     "output_type": "execute_result"
    }
   ],
   "source": [
    "lista= df.loc[:,['Temperatura', 'Voltaje', 'Ángulo', 'Velocidad','% carbón','Robot']]\n",
    "w=lista\n",
    "\n",
    "np.corrcoef(w,w)\n"
   ]
  },
  {
   "cell_type": "code",
   "execution_count": null,
   "metadata": {},
   "outputs": [],
   "source": []
  }
 ],
 "metadata": {
  "kernelspec": {
   "display_name": "Python 3 (ipykernel)",
   "language": "python",
   "name": "python3"
  },
  "language_info": {
   "codemirror_mode": {
    "name": "ipython",
    "version": 3
   },
   "file_extension": ".py",
   "mimetype": "text/x-python",
   "name": "python",
   "nbconvert_exporter": "python",
   "pygments_lexer": "ipython3",
   "version": "3.8.12"
  }
 },
 "nbformat": 4,
 "nbformat_minor": 4
}
