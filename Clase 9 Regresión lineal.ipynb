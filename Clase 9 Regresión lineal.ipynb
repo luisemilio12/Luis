{
 "cells": [
  {
   "cell_type": "markdown",
   "id": "8aa180fa-3661-4aa5-b99e-50a6bcdc60a6",
   "metadata": {},
   "source": [
    "## Regresión"
   ]
  },
  {
   "cell_type": "code",
   "execution_count": 1,
   "id": "f13fb668-ac7c-40e5-a9ff-8c27150bf320",
   "metadata": {},
   "outputs": [],
   "source": [
    "import pandas as pd\n",
    "import numpy as np\n",
    "import seaborn as sns\n",
    "import matplotlib as mpl\n",
    "import matplotlib.pyplot as plt"
   ]
  },
  {
   "cell_type": "code",
   "execution_count": 2,
   "id": "ac3efb71-3832-4425-9e16-60a98b9d5c80",
   "metadata": {},
   "outputs": [
    {
     "name": "stdout",
     "output_type": "stream",
     "text": [
      "Collecting statsmodels\n",
      "  Downloading statsmodels-0.13.0-cp38-cp38-manylinux_2_17_x86_64.manylinux2014_x86_64.whl (9.9 MB)\n",
      "\u001b[K     |████████████████████████████████| 9.9 MB 4.7 MB/s eta 0:00:01\n",
      "\u001b[?25hCollecting patsy>=0.5.2\n",
      "  Downloading patsy-0.5.2-py2.py3-none-any.whl (233 kB)\n",
      "\u001b[K     |████████████████████████████████| 233 kB 51.2 MB/s eta 0:00:01\n",
      "\u001b[?25hRequirement already satisfied: numpy>=1.17 in /srv/conda/envs/notebook/lib/python3.8/site-packages (from statsmodels) (1.18.5)\n",
      "Requirement already satisfied: scipy>=1.3 in /srv/conda/envs/notebook/lib/python3.8/site-packages (from statsmodels) (1.4.1)\n",
      "Requirement already satisfied: pandas>=0.25 in /srv/conda/envs/notebook/lib/python3.8/site-packages (from statsmodels) (1.0.4)\n",
      "Requirement already satisfied: pytz>=2017.2 in /srv/conda/envs/notebook/lib/python3.8/site-packages (from pandas>=0.25->statsmodels) (2020.1)\n",
      "Requirement already satisfied: python-dateutil>=2.6.1 in /srv/conda/envs/notebook/lib/python3.8/site-packages (from pandas>=0.25->statsmodels) (2.8.1)\n",
      "Requirement already satisfied: six in /srv/conda/envs/notebook/lib/python3.8/site-packages (from patsy>=0.5.2->statsmodels) (1.15.0)\n",
      "Installing collected packages: patsy, statsmodels\n",
      "Successfully installed patsy-0.5.2 statsmodels-0.13.0\n",
      "Note: you may need to restart the kernel to use updated packages.\n"
     ]
    }
   ],
   "source": [
    "pip install statsmodels"
   ]
  },
  {
   "cell_type": "code",
   "execution_count": 3,
   "id": "e9253f6b-62ec-459b-9c1a-f538093bd28f",
   "metadata": {},
   "outputs": [],
   "source": [
    "import statsmodels.api as sm"
   ]
  },
  {
   "cell_type": "code",
   "execution_count": 5,
   "id": "84a75c23-bd6d-442b-a9a1-61c3c8c95d20",
   "metadata": {},
   "outputs": [
    {
     "name": "stdout",
     "output_type": "stream",
     "text": [
      " 07_02_pie_box_scatter_bubble.ipynb  'Institution (1).ipynb'\n",
      " adult.csv                            Institution.ipynb\n",
      " Amazon.csv                           integrantes_ensanut2020_w.csv\n",
      " AMAZON.ipynb                         mic.xlsx\n",
      " antropometria-dataset-2.csv          nhanes_2015_2016.csv\n",
      "'archive (2).zip'                    'pivot tables.ipynb'\n",
      " Canada.xlsx                          README.md\n",
      " clase3.ipynb                         requierementsEXL\n",
      "'clase 4.2.ipynb'                     requirements.txt\n",
      " clase4.ipynb                         runtime.txt\n",
      "'clase 5.ipynb'                       tokyo_2021.csv\n",
      "'Clase 8 correlación.ipynb'           TOKYO2021.ipynb\n",
      "'Clase 8 sem 4.ipynb'                 Untitled1.ipynb\n",
      " coches-variables.xlsx                Untitled.ipynb\n",
      " covid19Vaccination.xlsx             'welcome_binder (1).ipynb'\n",
      " cwurData.csv                         welcome_binder.ipynb\n",
      "'Encuesta Clase 7.ipynb'             'World Universities Ranking.ipynb'\n",
      " headbrain.csv\n"
     ]
    }
   ],
   "source": [
    "%ls "
   ]
  },
  {
   "cell_type": "code",
   "execution_count": 6,
   "id": "89695190-de12-4059-ba3c-af07b97c834e",
   "metadata": {},
   "outputs": [
    {
     "data": {
      "text/plain": [
       "Index(['SEQN', 'ALQ101', 'ALQ110', 'ALQ130', 'SMQ020', 'RIAGENDR', 'RIDAGEYR',\n",
       "       'RIDRETH1', 'DMDCITZN', 'DMDEDUC2', 'DMDMARTL', 'DMDHHSIZ', 'WTINT2YR',\n",
       "       'SDMVPSU', 'SDMVSTRA', 'INDFMPIR', 'BPXSY1', 'BPXDI1', 'BPXSY2',\n",
       "       'BPXDI2', 'BMXWT', 'BMXHT', 'BMXBMI', 'BMXLEG', 'BMXARML', 'BMXARMC',\n",
       "       'BMXWAIST', 'HIQ210'],\n",
       "      dtype='object')"
      ]
     },
     "execution_count": 6,
     "metadata": {},
     "output_type": "execute_result"
    }
   ],
   "source": [
    "df= pd.read_csv('nhanes_2015_2016.csv')\n",
    "df.columns"
   ]
  },
  {
   "cell_type": "markdown",
   "id": "6da191b3-029d-4c8a-9e1a-5b39127d0379",
   "metadata": {},
   "source": [
    "## Mis variables de interés"
   ]
  },
  {
   "cell_type": "code",
   "execution_count": 8,
   "id": "2f12e7a2-abd1-4969-a176-08f154f0e400",
   "metadata": {},
   "outputs": [
    {
     "data": {
      "text/html": [
       "<div>\n",
       "<style scoped>\n",
       "    .dataframe tbody tr th:only-of-type {\n",
       "        vertical-align: middle;\n",
       "    }\n",
       "\n",
       "    .dataframe tbody tr th {\n",
       "        vertical-align: top;\n",
       "    }\n",
       "\n",
       "    .dataframe thead th {\n",
       "        text-align: right;\n",
       "    }\n",
       "</style>\n",
       "<table border=\"1\" class=\"dataframe\">\n",
       "  <thead>\n",
       "    <tr style=\"text-align: right;\">\n",
       "      <th></th>\n",
       "      <th>SMQ020</th>\n",
       "      <th>RIAGENDR</th>\n",
       "      <th>RIDAGEYR</th>\n",
       "      <th>BPXSY1</th>\n",
       "      <th>BMXBMI</th>\n",
       "      <th>BMXLEG</th>\n",
       "    </tr>\n",
       "  </thead>\n",
       "  <tbody>\n",
       "    <tr>\n",
       "      <th>0</th>\n",
       "      <td>1</td>\n",
       "      <td>1</td>\n",
       "      <td>62</td>\n",
       "      <td>128.0</td>\n",
       "      <td>27.8</td>\n",
       "      <td>43.3</td>\n",
       "    </tr>\n",
       "    <tr>\n",
       "      <th>1</th>\n",
       "      <td>1</td>\n",
       "      <td>1</td>\n",
       "      <td>53</td>\n",
       "      <td>146.0</td>\n",
       "      <td>30.8</td>\n",
       "      <td>38.0</td>\n",
       "    </tr>\n",
       "    <tr>\n",
       "      <th>2</th>\n",
       "      <td>1</td>\n",
       "      <td>1</td>\n",
       "      <td>78</td>\n",
       "      <td>138.0</td>\n",
       "      <td>28.8</td>\n",
       "      <td>35.6</td>\n",
       "    </tr>\n",
       "    <tr>\n",
       "      <th>3</th>\n",
       "      <td>2</td>\n",
       "      <td>2</td>\n",
       "      <td>56</td>\n",
       "      <td>132.0</td>\n",
       "      <td>42.4</td>\n",
       "      <td>38.5</td>\n",
       "    </tr>\n",
       "    <tr>\n",
       "      <th>4</th>\n",
       "      <td>2</td>\n",
       "      <td>2</td>\n",
       "      <td>42</td>\n",
       "      <td>100.0</td>\n",
       "      <td>20.3</td>\n",
       "      <td>37.4</td>\n",
       "    </tr>\n",
       "    <tr>\n",
       "      <th>...</th>\n",
       "      <td>...</td>\n",
       "      <td>...</td>\n",
       "      <td>...</td>\n",
       "      <td>...</td>\n",
       "      <td>...</td>\n",
       "      <td>...</td>\n",
       "    </tr>\n",
       "    <tr>\n",
       "      <th>5730</th>\n",
       "      <td>1</td>\n",
       "      <td>2</td>\n",
       "      <td>76</td>\n",
       "      <td>112.0</td>\n",
       "      <td>21.5</td>\n",
       "      <td>38.2</td>\n",
       "    </tr>\n",
       "    <tr>\n",
       "      <th>5731</th>\n",
       "      <td>2</td>\n",
       "      <td>1</td>\n",
       "      <td>26</td>\n",
       "      <td>118.0</td>\n",
       "      <td>33.8</td>\n",
       "      <td>43.4</td>\n",
       "    </tr>\n",
       "    <tr>\n",
       "      <th>5732</th>\n",
       "      <td>1</td>\n",
       "      <td>2</td>\n",
       "      <td>80</td>\n",
       "      <td>154.0</td>\n",
       "      <td>31.0</td>\n",
       "      <td>31.3</td>\n",
       "    </tr>\n",
       "    <tr>\n",
       "      <th>5733</th>\n",
       "      <td>1</td>\n",
       "      <td>1</td>\n",
       "      <td>35</td>\n",
       "      <td>104.0</td>\n",
       "      <td>26.0</td>\n",
       "      <td>40.3</td>\n",
       "    </tr>\n",
       "    <tr>\n",
       "      <th>5734</th>\n",
       "      <td>2</td>\n",
       "      <td>2</td>\n",
       "      <td>24</td>\n",
       "      <td>118.0</td>\n",
       "      <td>21.4</td>\n",
       "      <td>38.2</td>\n",
       "    </tr>\n",
       "  </tbody>\n",
       "</table>\n",
       "<p>5087 rows × 6 columns</p>\n",
       "</div>"
      ],
      "text/plain": [
       "      SMQ020  RIAGENDR  RIDAGEYR  BPXSY1  BMXBMI  BMXLEG\n",
       "0          1         1        62   128.0    27.8    43.3\n",
       "1          1         1        53   146.0    30.8    38.0\n",
       "2          1         1        78   138.0    28.8    35.6\n",
       "3          2         2        56   132.0    42.4    38.5\n",
       "4          2         2        42   100.0    20.3    37.4\n",
       "...      ...       ...       ...     ...     ...     ...\n",
       "5730       1         2        76   112.0    21.5    38.2\n",
       "5731       2         1        26   118.0    33.8    43.4\n",
       "5732       1         2        80   154.0    31.0    31.3\n",
       "5733       1         1        35   104.0    26.0    40.3\n",
       "5734       2         2        24   118.0    21.4    38.2\n",
       "\n",
       "[5087 rows x 6 columns]"
      ]
     },
     "execution_count": 8,
     "metadata": {},
     "output_type": "execute_result"
    }
   ],
   "source": [
    "vars = ['SMQ020', 'RIAGENDR', 'RIDAGEYR','BPXSY1','BMXBMI', 'BMXLEG']\n",
    "df = df[vars].dropna()\n",
    "df"
   ]
  },
  {
   "cell_type": "code",
   "execution_count": 9,
   "id": "d1faa86b-b1ee-4208-858b-cabec6db8436",
   "metadata": {},
   "outputs": [
    {
     "data": {
      "text/html": [
       "<div>\n",
       "<style scoped>\n",
       "    .dataframe tbody tr th:only-of-type {\n",
       "        vertical-align: middle;\n",
       "    }\n",
       "\n",
       "    .dataframe tbody tr th {\n",
       "        vertical-align: top;\n",
       "    }\n",
       "\n",
       "    .dataframe thead th {\n",
       "        text-align: right;\n",
       "    }\n",
       "</style>\n",
       "<table border=\"1\" class=\"dataframe\">\n",
       "  <thead>\n",
       "    <tr style=\"text-align: right;\">\n",
       "      <th></th>\n",
       "      <th>SMQ020</th>\n",
       "      <th>RIAGENDR</th>\n",
       "      <th>RIDAGEYR</th>\n",
       "      <th>BPXSY1</th>\n",
       "      <th>BMXBMI</th>\n",
       "      <th>BMXLEG</th>\n",
       "    </tr>\n",
       "  </thead>\n",
       "  <tbody>\n",
       "    <tr>\n",
       "      <th>SMQ020</th>\n",
       "      <td>1.000000</td>\n",
       "      <td>0.180578</td>\n",
       "      <td>-0.147325</td>\n",
       "      <td>-0.093587</td>\n",
       "      <td>-0.027803</td>\n",
       "      <td>-0.080541</td>\n",
       "    </tr>\n",
       "    <tr>\n",
       "      <th>RIAGENDR</th>\n",
       "      <td>0.180578</td>\n",
       "      <td>1.000000</td>\n",
       "      <td>-0.017498</td>\n",
       "      <td>-0.104578</td>\n",
       "      <td>0.071564</td>\n",
       "      <td>-0.527342</td>\n",
       "    </tr>\n",
       "    <tr>\n",
       "      <th>RIDAGEYR</th>\n",
       "      <td>-0.147325</td>\n",
       "      <td>-0.017498</td>\n",
       "      <td>1.000000</td>\n",
       "      <td>0.466838</td>\n",
       "      <td>0.049514</td>\n",
       "      <td>-0.309734</td>\n",
       "    </tr>\n",
       "    <tr>\n",
       "      <th>BPXSY1</th>\n",
       "      <td>-0.093587</td>\n",
       "      <td>-0.104578</td>\n",
       "      <td>0.466838</td>\n",
       "      <td>1.000000</td>\n",
       "      <td>0.141162</td>\n",
       "      <td>-0.080850</td>\n",
       "    </tr>\n",
       "    <tr>\n",
       "      <th>BMXBMI</th>\n",
       "      <td>-0.027803</td>\n",
       "      <td>0.071564</td>\n",
       "      <td>0.049514</td>\n",
       "      <td>0.141162</td>\n",
       "      <td>1.000000</td>\n",
       "      <td>-0.062964</td>\n",
       "    </tr>\n",
       "    <tr>\n",
       "      <th>BMXLEG</th>\n",
       "      <td>-0.080541</td>\n",
       "      <td>-0.527342</td>\n",
       "      <td>-0.309734</td>\n",
       "      <td>-0.080850</td>\n",
       "      <td>-0.062964</td>\n",
       "      <td>1.000000</td>\n",
       "    </tr>\n",
       "  </tbody>\n",
       "</table>\n",
       "</div>"
      ],
      "text/plain": [
       "            SMQ020  RIAGENDR  RIDAGEYR    BPXSY1    BMXBMI    BMXLEG\n",
       "SMQ020    1.000000  0.180578 -0.147325 -0.093587 -0.027803 -0.080541\n",
       "RIAGENDR  0.180578  1.000000 -0.017498 -0.104578  0.071564 -0.527342\n",
       "RIDAGEYR -0.147325 -0.017498  1.000000  0.466838  0.049514 -0.309734\n",
       "BPXSY1   -0.093587 -0.104578  0.466838  1.000000  0.141162 -0.080850\n",
       "BMXBMI   -0.027803  0.071564  0.049514  0.141162  1.000000 -0.062964\n",
       "BMXLEG   -0.080541 -0.527342 -0.309734 -0.080850 -0.062964  1.000000"
      ]
     },
     "execution_count": 9,
     "metadata": {},
     "output_type": "execute_result"
    }
   ],
   "source": [
    "df[vars].corr()"
   ]
  },
  {
   "cell_type": "markdown",
   "id": "5c8b1862-78a2-4e1b-8d37-e84a2c4bd861",
   "metadata": {},
   "source": [
    "# Regresión lineal"
   ]
  },
  {
   "cell_type": "code",
   "execution_count": 11,
   "id": "361f3b95-5f0c-44de-9fa7-53f3bd302575",
   "metadata": {},
   "outputs": [
    {
     "data": {
      "text/html": [
       "<table class=\"simpletable\">\n",
       "<caption>OLS Regression Results</caption>\n",
       "<tr>\n",
       "  <th>Dep. Variable:</th>         <td>BPXSY1</td>      <th>  R-squared:         </th> <td>   0.011</td> \n",
       "</tr>\n",
       "<tr>\n",
       "  <th>Model:</th>                   <td>OLS</td>       <th>  Adj. R-squared:    </th> <td>   0.011</td> \n",
       "</tr>\n",
       "<tr>\n",
       "  <th>Method:</th>             <td>Least Squares</td>  <th>  F-statistic:       </th> <td>   56.23</td> \n",
       "</tr>\n",
       "<tr>\n",
       "  <th>Date:</th>             <td>Mon, 18 Oct 2021</td> <th>  Prob (F-statistic):</th> <td>7.57e-14</td> \n",
       "</tr>\n",
       "<tr>\n",
       "  <th>Time:</th>                 <td>12:27:25</td>     <th>  Log-Likelihood:    </th> <td> -21972.</td> \n",
       "</tr>\n",
       "<tr>\n",
       "  <th>No. Observations:</th>      <td>  5087</td>      <th>  AIC:               </th> <td>4.395e+04</td>\n",
       "</tr>\n",
       "<tr>\n",
       "  <th>Df Residuals:</th>          <td>  5085</td>      <th>  BIC:               </th> <td>4.396e+04</td>\n",
       "</tr>\n",
       "<tr>\n",
       "  <th>Df Model:</th>              <td>     1</td>      <th>                     </th>     <td> </td>    \n",
       "</tr>\n",
       "<tr>\n",
       "  <th>Covariance Type:</th>      <td>nonrobust</td>    <th>                     </th>     <td> </td>    \n",
       "</tr>\n",
       "</table>\n",
       "<table class=\"simpletable\">\n",
       "<tr>\n",
       "      <td></td>         <th>coef</th>     <th>std err</th>      <th>t</th>      <th>P>|t|</th>  <th>[0.025</th>    <th>0.975]</th>  \n",
       "</tr>\n",
       "<tr>\n",
       "  <th>Intercept</th> <td>  130.5527</td> <td>    0.812</td> <td>  160.689</td> <td> 0.000</td> <td>  128.960</td> <td>  132.145</td>\n",
       "</tr>\n",
       "<tr>\n",
       "  <th>RIAGENDR</th>  <td>   -3.8245</td> <td>    0.510</td> <td>   -7.498</td> <td> 0.000</td> <td>   -4.824</td> <td>   -2.825</td>\n",
       "</tr>\n",
       "</table>\n",
       "<table class=\"simpletable\">\n",
       "<tr>\n",
       "  <th>Omnibus:</th>       <td>915.922</td> <th>  Durbin-Watson:     </th> <td>   2.026</td>\n",
       "</tr>\n",
       "<tr>\n",
       "  <th>Prob(Omnibus):</th> <td> 0.000</td>  <th>  Jarque-Bera (JB):  </th> <td>1840.824</td>\n",
       "</tr>\n",
       "<tr>\n",
       "  <th>Skew:</th>          <td> 1.080</td>  <th>  Prob(JB):          </th> <td>    0.00</td>\n",
       "</tr>\n",
       "<tr>\n",
       "  <th>Kurtosis:</th>      <td> 5.006</td>  <th>  Cond. No.          </th> <td>    6.93</td>\n",
       "</tr>\n",
       "</table><br/><br/>Notes:<br/>[1] Standard Errors assume that the covariance matrix of the errors is correctly specified."
      ],
      "text/plain": [
       "<class 'statsmodels.iolib.summary.Summary'>\n",
       "\"\"\"\n",
       "                            OLS Regression Results                            \n",
       "==============================================================================\n",
       "Dep. Variable:                 BPXSY1   R-squared:                       0.011\n",
       "Model:                            OLS   Adj. R-squared:                  0.011\n",
       "Method:                 Least Squares   F-statistic:                     56.23\n",
       "Date:                Mon, 18 Oct 2021   Prob (F-statistic):           7.57e-14\n",
       "Time:                        12:27:25   Log-Likelihood:                -21972.\n",
       "No. Observations:                5087   AIC:                         4.395e+04\n",
       "Df Residuals:                    5085   BIC:                         4.396e+04\n",
       "Df Model:                           1                                         \n",
       "Covariance Type:            nonrobust                                         \n",
       "==============================================================================\n",
       "                 coef    std err          t      P>|t|      [0.025      0.975]\n",
       "------------------------------------------------------------------------------\n",
       "Intercept    130.5527      0.812    160.689      0.000     128.960     132.145\n",
       "RIAGENDR      -3.8245      0.510     -7.498      0.000      -4.824      -2.825\n",
       "==============================================================================\n",
       "Omnibus:                      915.922   Durbin-Watson:                   2.026\n",
       "Prob(Omnibus):                  0.000   Jarque-Bera (JB):             1840.824\n",
       "Skew:                           1.080   Prob(JB):                         0.00\n",
       "Kurtosis:                       5.006   Cond. No.                         6.93\n",
       "==============================================================================\n",
       "\n",
       "Notes:\n",
       "[1] Standard Errors assume that the covariance matrix of the errors is correctly specified.\n",
       "\"\"\""
      ]
     },
     "execution_count": 11,
     "metadata": {},
     "output_type": "execute_result"
    }
   ],
   "source": [
    "model = sm.OLS.from_formula ('BPXSY1 ~ RIAGENDR',\n",
    "                            data = df)\n",
    "result = model.fit()\n",
    "result.summary()"
   ]
  },
  {
   "cell_type": "code",
   "execution_count": 14,
   "id": "606e4e6e-4351-4943-848d-1171fd5fc0a0",
   "metadata": {},
   "outputs": [
    {
     "data": {
      "image/png": "[encoded data removed]",
      "text/plain": [
       "<Figure size 432x288 with 1 Axes>"
      ]
     },
     "metadata": {
      "needs_background": "light"
     },
     "output_type": "display_data"
    }
   ],
   "source": [
    "ax = sns.regplot (x = 'BPXSY1',\n",
    "                  y = 'RIAGENDR',\n",
    "                  data = df,\n",
    "                 x_estimator = np.mean,\n",
    "                 )"
   ]
  },
  {
   "cell_type": "markdown",
   "id": "1f54dce4-8bec-4271-b50f-d24b9f34a8a7",
   "metadata": {},
   "source": [
    "# Mas de una variable independiente"
   ]
  },
  {
   "cell_type": "code",
   "execution_count": 19,
   "id": "bfd1ef1f-ef0e-432e-ad09-2455beacbfc8",
   "metadata": {},
   "outputs": [
    {
     "data": {
      "text/html": [
       "<table class=\"simpletable\">\n",
       "<caption>OLS Regression Results</caption>\n",
       "<tr>\n",
       "  <th>Dep. Variable:</th>         <td>BMXBMI</td>      <th>  R-squared:         </th> <td>   0.024</td> \n",
       "</tr>\n",
       "<tr>\n",
       "  <th>Model:</th>                   <td>OLS</td>       <th>  Adj. R-squared:    </th> <td>   0.023</td> \n",
       "</tr>\n",
       "<tr>\n",
       "  <th>Method:</th>             <td>Least Squares</td>  <th>  F-statistic:       </th> <td>   41.52</td> \n",
       "</tr>\n",
       "<tr>\n",
       "  <th>Date:</th>             <td>Mon, 18 Oct 2021</td> <th>  Prob (F-statistic):</th> <td>1.69e-26</td> \n",
       "</tr>\n",
       "<tr>\n",
       "  <th>Time:</th>                 <td>12:41:15</td>     <th>  Log-Likelihood:    </th> <td> -16941.</td> \n",
       "</tr>\n",
       "<tr>\n",
       "  <th>No. Observations:</th>      <td>  5087</td>      <th>  AIC:               </th> <td>3.389e+04</td>\n",
       "</tr>\n",
       "<tr>\n",
       "  <th>Df Residuals:</th>          <td>  5083</td>      <th>  BIC:               </th> <td>3.392e+04</td>\n",
       "</tr>\n",
       "<tr>\n",
       "  <th>Df Model:</th>              <td>     3</td>      <th>                     </th>     <td> </td>    \n",
       "</tr>\n",
       "<tr>\n",
       "  <th>Covariance Type:</th>      <td>nonrobust</td>    <th>                     </th>     <td> </td>    \n",
       "</tr>\n",
       "</table>\n",
       "<table class=\"simpletable\">\n",
       "<tr>\n",
       "      <td></td>         <th>coef</th>     <th>std err</th>      <th>t</th>      <th>P>|t|</th>  <th>[0.025</th>    <th>0.975]</th>  \n",
       "</tr>\n",
       "<tr>\n",
       "  <th>Intercept</th> <td>   27.0366</td> <td>    1.225</td> <td>   22.074</td> <td> 0.000</td> <td>   24.635</td> <td>   29.438</td>\n",
       "</tr>\n",
       "<tr>\n",
       "  <th>RIDAGEYR</th>  <td>   -0.0162</td> <td>    0.006</td> <td>   -2.617</td> <td> 0.009</td> <td>   -0.028</td> <td>   -0.004</td>\n",
       "</tr>\n",
       "<tr>\n",
       "  <th>BPXSY1</th>    <td>    0.0585</td> <td>    0.006</td> <td>    9.935</td> <td> 0.000</td> <td>    0.047</td> <td>    0.070</td>\n",
       "</tr>\n",
       "<tr>\n",
       "  <th>BMXLEG</th>    <td>   -0.1128</td> <td>    0.026</td> <td>   -4.358</td> <td> 0.000</td> <td>   -0.164</td> <td>   -0.062</td>\n",
       "</tr>\n",
       "</table>\n",
       "<table class=\"simpletable\">\n",
       "<tr>\n",
       "  <th>Omnibus:</th>       <td>782.011</td> <th>  Durbin-Watson:     </th> <td>   2.022</td> \n",
       "</tr>\n",
       "<tr>\n",
       "  <th>Prob(Omnibus):</th> <td> 0.000</td>  <th>  Jarque-Bera (JB):  </th> <td>1378.756</td> \n",
       "</tr>\n",
       "<tr>\n",
       "  <th>Skew:</th>          <td> 0.993</td>  <th>  Prob(JB):          </th> <td>4.05e-300</td>\n",
       "</tr>\n",
       "<tr>\n",
       "  <th>Kurtosis:</th>      <td> 4.599</td>  <th>  Cond. No.          </th> <td>1.81e+03</td> \n",
       "</tr>\n",
       "</table><br/><br/>Notes:<br/>[1] Standard Errors assume that the covariance matrix of the errors is correctly specified.<br/>[2] The condition number is large, 1.81e+03. This might indicate that there are<br/>strong multicollinearity or other numerical problems."
      ],
      "text/plain": [
       "<class 'statsmodels.iolib.summary.Summary'>\n",
       "\"\"\"\n",
       "                            OLS Regression Results                            \n",
       "==============================================================================\n",
       "Dep. Variable:                 BMXBMI   R-squared:                       0.024\n",
       "Model:                            OLS   Adj. R-squared:                  0.023\n",
       "Method:                 Least Squares   F-statistic:                     41.52\n",
       "Date:                Mon, 18 Oct 2021   Prob (F-statistic):           1.69e-26\n",
       "Time:                        12:41:15   Log-Likelihood:                -16941.\n",
       "No. Observations:                5087   AIC:                         3.389e+04\n",
       "Df Residuals:                    5083   BIC:                         3.392e+04\n",
       "Df Model:                           3                                         \n",
       "Covariance Type:            nonrobust                                         \n",
       "==============================================================================\n",
       "                 coef    std err          t      P>|t|      [0.025      0.975]\n",
       "------------------------------------------------------------------------------\n",
       "Intercept     27.0366      1.225     22.074      0.000      24.635      29.438\n",
       "RIDAGEYR      -0.0162      0.006     -2.617      0.009      -0.028      -0.004\n",
       "BPXSY1         0.0585      0.006      9.935      0.000       0.047       0.070\n",
       "BMXLEG        -0.1128      0.026     -4.358      0.000      -0.164      -0.062\n",
       "==============================================================================\n",
       "Omnibus:                      782.011   Durbin-Watson:                   2.022\n",
       "Prob(Omnibus):                  0.000   Jarque-Bera (JB):             1378.756\n",
       "Skew:                           0.993   Prob(JB):                    4.05e-300\n",
       "Kurtosis:                       4.599   Cond. No.                     1.81e+03\n",
       "==============================================================================\n",
       "\n",
       "Notes:\n",
       "[1] Standard Errors assume that the covariance matrix of the errors is correctly specified.\n",
       "[2] The condition number is large, 1.81e+03. This might indicate that there are\n",
       "strong multicollinearity or other numerical problems.\n",
       "\"\"\""
      ]
     },
     "execution_count": 19,
     "metadata": {},
     "output_type": "execute_result"
    }
   ],
   "source": [
    "model = sm.OLS.from_formula ('BMXBMI ~ RIDAGEYR+ BPXSY1 + BMXLEG',\n",
    "                            data = df)\n",
    "result = model.fit()\n",
    "result.summary()"
   ]
  },
  {
   "cell_type": "code",
   "execution_count": 20,
   "id": "1c8a7e37-2521-48c6-bff1-7bf7c6823574",
   "metadata": {},
   "outputs": [],
   "source": [
    "x = result.fittedvalues\n",
    "y = result.resid"
   ]
  },
  {
   "cell_type": "code",
   "execution_count": 21,
   "id": "c3df6eb2-599b-45fe-9086-9339756d04d5",
   "metadata": {},
   "outputs": [
    {
     "data": {
      "text/plain": [
       "Text(0, 0.5, 'residuales')"
      ]
     },
     "execution_count": 21,
     "metadata": {},
     "output_type": "execute_result"
    },
    {
     "data": {
      "image/png": "[encoded data removed]",
      "text/plain": [
       "<Figure size 432x288 with 1 Axes>"
      ]
     },
     "metadata": {
      "needs_background": "light"
     },
     "output_type": "display_data"
    }
   ],
   "source": [
    "fig = sns.scatterplot ( x = x,\n",
    "                       y = y,\n",
    "                      )\n",
    "fig.set_xlabel ('fittedvalues')\n",
    "fig.set_ylabel ('residuales')"
   ]
  },
  {
   "cell_type": "code",
   "execution_count": null,
   "id": "76d6833c-d4b4-4fd9-8e4f-15914561c5be",
   "metadata": {},
   "outputs": [],
   "source": []
  }
 ],
 "metadata": {
  "kernelspec": {
   "display_name": "Python 3 (ipykernel)",
   "language": "python",
   "name": "python3"
  },
  "language_info": {
   "codemirror_mode": {
    "name": "ipython",
    "version": 3
   },
   "file_extension": ".py",
   "mimetype": "text/x-python",
   "name": "python",
   "nbconvert_exporter": "python",
   "pygments_lexer": "ipython3",
   "version": "3.8.12"
  }
 },
 "nbformat": 4,
 "nbformat_minor": 5
}
