{
 "cells": [
  {
   "cell_type": "code",
   "execution_count": 2,
   "id": "f4f371af-ec6a-4f24-9d8e-75c462670d7b",
   "metadata": {},
   "outputs": [],
   "source": [
    "import numpy as np\n",
    "import pandas as pd\n",
    "import matplotlib.pyplot as plt\n",
    "import matplotlib as mpl"
   ]
  },
  {
   "cell_type": "code",
   "execution_count": 5,
   "id": "7bcfaff4-290b-4185-b326-e9604e7db6a2",
   "metadata": {},
   "outputs": [
    {
     "name": "stdout",
     "output_type": "stream",
     "text": [
      "['Solarize_Light2', '_classic_test_patch', 'bmh', 'classic', 'dark_background', 'fast', 'fivethirtyeight', 'ggplot', 'grayscale', 'seaborn', 'seaborn-bright', 'seaborn-colorblind', 'seaborn-dark', 'seaborn-dark-palette', 'seaborn-darkgrid', 'seaborn-deep', 'seaborn-muted', 'seaborn-notebook', 'seaborn-paper', 'seaborn-pastel', 'seaborn-poster', 'seaborn-talk', 'seaborn-ticks', 'seaborn-white', 'seaborn-whitegrid', 'tableau-colorblind10']\n"
     ]
    }
   ],
   "source": [
    "print(plt.style.available)\n",
    "mpl.style.use(['ggplot'])"
   ]
  },
  {
   "cell_type": "code",
   "execution_count": 6,
   "id": "bd2ced77-5d0c-4388-9769-72a58dbd19a1",
   "metadata": {},
   "outputs": [
    {
     "name": "stdout",
     "output_type": "stream",
     "text": [
      "adult.csv                  census.csv            pokemon.csv\n",
      "airline_data.csv           cwurData.csv          sample_pivot.csv\n",
      "antropometria00.csv        data.csv              tips.csv\n",
      "antropometria-dataset.csv  headbrain.csv         weight-height.csv\n",
      "Canada.xlsx                movies.csv\n",
      "Cartwheeldata.csv          nhanes_2015_2016.csv\n"
     ]
    }
   ],
   "source": [
    "%ls datasets/"
   ]
  },
  {
   "cell_type": "code",
   "execution_count": 7,
   "id": "a6917ffc-9b33-4841-a349-d9d5750deeac",
   "metadata": {},
   "outputs": [
    {
     "name": "stdout",
     "output_type": "stream",
     "text": [
      "Collecting openpyxl\n",
      "  Downloading openpyxl-3.0.9-py2.py3-none-any.whl (242 kB)\n",
      "\u001b[K     |████████████████████████████████| 242 kB 4.8 MB/s eta 0:00:01\n",
      "\u001b[?25hCollecting et-xmlfile\n",
      "  Downloading et_xmlfile-1.1.0-py3-none-any.whl (4.7 kB)\n",
      "Installing collected packages: et-xmlfile, openpyxl\n",
      "Successfully installed et-xmlfile-1.1.0 openpyxl-3.0.9\n",
      "Note: you may need to restart the kernel to use updated packages.\n"
     ]
    }
   ],
   "source": [
    "pip install openpyxl"
   ]
  },
  {
   "cell_type": "code",
   "execution_count": 8,
   "id": "c1f86304-5385-497e-96ac-a328b47209c6",
   "metadata": {},
   "outputs": [
    {
     "name": "stdout",
     "output_type": "stream",
     "text": [
      "Collecting xlrd\n",
      "  Downloading xlrd-2.0.1-py2.py3-none-any.whl (96 kB)\n",
      "\u001b[K     |████████████████████████████████| 96 kB 3.0 MB/s eta 0:00:011\n",
      "\u001b[?25hInstalling collected packages: xlrd\n",
      "Successfully installed xlrd-2.0.1\n",
      "Note: you may need to restart the kernel to use updated packages.\n"
     ]
    }
   ],
   "source": [
    "pip install xlrd"
   ]
  },
  {
   "cell_type": "code",
   "execution_count": 10,
   "id": "a35aab5c-faa8-47bd-a039-7196ecaa7d16",
   "metadata": {},
   "outputs": [
    {
     "data": {
      "text/html": [
       "<div>\n",
       "<style scoped>\n",
       "    .dataframe tbody tr th:only-of-type {\n",
       "        vertical-align: middle;\n",
       "    }\n",
       "\n",
       "    .dataframe tbody tr th {\n",
       "        vertical-align: top;\n",
       "    }\n",
       "\n",
       "    .dataframe thead th {\n",
       "        text-align: right;\n",
       "    }\n",
       "</style>\n",
       "<table border=\"1\" class=\"dataframe\">\n",
       "  <thead>\n",
       "    <tr style=\"text-align: right;\">\n",
       "      <th></th>\n",
       "      <th>Type</th>\n",
       "      <th>Coverage</th>\n",
       "      <th>OdName</th>\n",
       "      <th>AREA</th>\n",
       "      <th>AreaName</th>\n",
       "      <th>REG</th>\n",
       "      <th>RegName</th>\n",
       "      <th>DEV</th>\n",
       "      <th>DevName</th>\n",
       "      <th>1980</th>\n",
       "      <th>...</th>\n",
       "      <th>2012</th>\n",
       "      <th>2013</th>\n",
       "      <th>Unnamed: 43</th>\n",
       "      <th>Unnamed: 44</th>\n",
       "      <th>Unnamed: 45</th>\n",
       "      <th>Unnamed: 46</th>\n",
       "      <th>Unnamed: 47</th>\n",
       "      <th>Unnamed: 48</th>\n",
       "      <th>Unnamed: 49</th>\n",
       "      <th>Unnamed: 50</th>\n",
       "    </tr>\n",
       "  </thead>\n",
       "  <tbody>\n",
       "    <tr>\n",
       "      <th>0</th>\n",
       "      <td>Immigrants</td>\n",
       "      <td>Foreigners</td>\n",
       "      <td>Afghanistan</td>\n",
       "      <td>935.0</td>\n",
       "      <td>Asia</td>\n",
       "      <td>5501.0</td>\n",
       "      <td>Southern Asia</td>\n",
       "      <td>902.0</td>\n",
       "      <td>Developing regions</td>\n",
       "      <td>16.0</td>\n",
       "      <td>...</td>\n",
       "      <td>2635.0</td>\n",
       "      <td>2004.0</td>\n",
       "      <td>NaN</td>\n",
       "      <td>NaN</td>\n",
       "      <td>NaN</td>\n",
       "      <td>NaN</td>\n",
       "      <td>NaN</td>\n",
       "      <td>NaN</td>\n",
       "      <td>NaN</td>\n",
       "      <td>NaN</td>\n",
       "    </tr>\n",
       "    <tr>\n",
       "      <th>1</th>\n",
       "      <td>Immigrants</td>\n",
       "      <td>Foreigners</td>\n",
       "      <td>Albania</td>\n",
       "      <td>908.0</td>\n",
       "      <td>Europe</td>\n",
       "      <td>925.0</td>\n",
       "      <td>Southern Europe</td>\n",
       "      <td>901.0</td>\n",
       "      <td>Developed regions</td>\n",
       "      <td>1.0</td>\n",
       "      <td>...</td>\n",
       "      <td>620.0</td>\n",
       "      <td>603.0</td>\n",
       "      <td>NaN</td>\n",
       "      <td>NaN</td>\n",
       "      <td>NaN</td>\n",
       "      <td>NaN</td>\n",
       "      <td>NaN</td>\n",
       "      <td>NaN</td>\n",
       "      <td>NaN</td>\n",
       "      <td>NaN</td>\n",
       "    </tr>\n",
       "  </tbody>\n",
       "</table>\n",
       "<p>2 rows × 51 columns</p>\n",
       "</div>"
      ],
      "text/plain": [
       "         Type    Coverage       OdName   AREA AreaName     REG  \\\n",
       "0  Immigrants  Foreigners  Afghanistan  935.0     Asia  5501.0   \n",
       "1  Immigrants  Foreigners      Albania  908.0   Europe   925.0   \n",
       "\n",
       "           RegName    DEV             DevName  1980  ...    2012    2013  \\\n",
       "0    Southern Asia  902.0  Developing regions  16.0  ...  2635.0  2004.0   \n",
       "1  Southern Europe  901.0   Developed regions   1.0  ...   620.0   603.0   \n",
       "\n",
       "   Unnamed: 43  Unnamed: 44  Unnamed: 45  Unnamed: 46  Unnamed: 47  \\\n",
       "0          NaN          NaN          NaN          NaN          NaN   \n",
       "1          NaN          NaN          NaN          NaN          NaN   \n",
       "\n",
       "   Unnamed: 48  Unnamed: 49  Unnamed: 50  \n",
       "0          NaN          NaN          NaN  \n",
       "1          NaN          NaN          NaN  \n",
       "\n",
       "[2 rows x 51 columns]"
      ]
     },
     "execution_count": 10,
     "metadata": {},
     "output_type": "execute_result"
    }
   ],
   "source": [
    "df=pd.read_excel('datasets/Canada.xlsx',\n",
    "               sheet_name='Canada by Citizenship',\n",
    "               skiprows=range(20),\n",
    "               skipfooter=2,\n",
    "               engine='openpyxl'\n",
    "              )\n",
    "df.head(2)"
   ]
  },
  {
   "cell_type": "code",
   "execution_count": 11,
   "id": "dd0feeb9-e975-4a76-80be-72e9c08b0f2d",
   "metadata": {},
   "outputs": [
    {
     "data": {
      "text/plain": [
       "Index([       'Type',    'Coverage',      'OdName',        'AREA',\n",
       "          'AreaName',         'REG',     'RegName',         'DEV',\n",
       "           'DevName',          1980,          1981,          1982,\n",
       "                1983,          1984,          1985,          1986,\n",
       "                1987,          1988,          1989,          1990,\n",
       "                1991,          1992,          1993,          1994,\n",
       "                1995,          1996,          1997,          1998,\n",
       "                1999,          2000,          2001,          2002,\n",
       "                2003,          2004,          2005,          2006,\n",
       "                2007,          2008,          2009,          2010,\n",
       "                2011,          2012,          2013, 'Unnamed: 43',\n",
       "       'Unnamed: 44', 'Unnamed: 45', 'Unnamed: 46', 'Unnamed: 47',\n",
       "       'Unnamed: 48', 'Unnamed: 49', 'Unnamed: 50'],\n",
       "      dtype='object')"
      ]
     },
     "execution_count": 11,
     "metadata": {},
     "output_type": "execute_result"
    }
   ],
   "source": [
    "df.columns"
   ]
  },
  {
   "cell_type": "code",
   "execution_count": 17,
   "id": "d91b1d39-53be-45ab-b980-8209ec0e216e",
   "metadata": {},
   "outputs": [
    {
     "data": {
      "text/plain": [
       "['1980',\n",
       " '1981',\n",
       " '1982',\n",
       " '1983',\n",
       " '1984',\n",
       " '1985',\n",
       " '1986',\n",
       " '1987',\n",
       " '1988',\n",
       " '1989',\n",
       " '1990',\n",
       " '1991',\n",
       " '1992',\n",
       " '1993',\n",
       " '1994',\n",
       " '1995',\n",
       " '1996',\n",
       " '1997',\n",
       " '1998',\n",
       " '1999',\n",
       " '2000',\n",
       " '2001',\n",
       " '2002',\n",
       " '2003',\n",
       " '2004',\n",
       " '2005',\n",
       " '2006',\n",
       " '2007',\n",
       " '2008',\n",
       " '2009',\n",
       " '2010',\n",
       " '2011',\n",
       " '2012',\n",
       " '2013']"
      ]
     },
     "execution_count": 17,
     "metadata": {},
     "output_type": "execute_result"
    }
   ],
   "source": [
    "df.columns=list(map(str,\n",
    "                    df.columns\n",
    "                   )\n",
    "               )\n",
    "years=list(map(str,\n",
    "               range(1980,2014)\n",
    "              )\n",
    "          )\n",
    "years"
   ]
  },
  {
   "cell_type": "code",
   "execution_count": 18,
   "id": "43a3eb4d-057e-4de2-88fe-154c3fbb9b12",
   "metadata": {},
   "outputs": [
    {
     "data": {
      "text/plain": [
       "Index(['Type', 'Coverage', 'OdName', 'AREA', 'AreaName', 'REG', 'RegName',\n",
       "       'DEV', 'DevName', '1980', '1981', '1982', '1983', '1984', '1985',\n",
       "       '1986', '1987', '1988', '1989', '1990', '1991', '1992', '1993', '1994',\n",
       "       '1995', '1996', '1997', '1998', '1999', '2000', '2001', '2002', '2003',\n",
       "       '2004', '2005', '2006', '2007', '2008', '2009', '2010', '2011', '2012',\n",
       "       '2013', 'Unnamed: 43', 'Unnamed: 44', 'Unnamed: 45', 'Unnamed: 46',\n",
       "       'Unnamed: 47', 'Unnamed: 48', 'Unnamed: 49', 'Unnamed: 50'],\n",
       "      dtype='object')"
      ]
     },
     "execution_count": 18,
     "metadata": {},
     "output_type": "execute_result"
    }
   ],
   "source": [
    "df.columns"
   ]
  },
  {
   "cell_type": "code",
   "execution_count": 20,
   "id": "9398257f-201e-4323-b253-c44fc2b91903",
   "metadata": {},
   "outputs": [
    {
     "data": {
      "text/html": [
       "<div>\n",
       "<style scoped>\n",
       "    .dataframe tbody tr th:only-of-type {\n",
       "        vertical-align: middle;\n",
       "    }\n",
       "\n",
       "    .dataframe tbody tr th {\n",
       "        vertical-align: top;\n",
       "    }\n",
       "\n",
       "    .dataframe thead th {\n",
       "        text-align: right;\n",
       "    }\n",
       "</style>\n",
       "<table border=\"1\" class=\"dataframe\">\n",
       "  <thead>\n",
       "    <tr style=\"text-align: right;\">\n",
       "      <th></th>\n",
       "      <th>Type</th>\n",
       "      <th>Coverage</th>\n",
       "      <th>AREA</th>\n",
       "      <th>AreaName</th>\n",
       "      <th>REG</th>\n",
       "      <th>RegName</th>\n",
       "      <th>DEV</th>\n",
       "      <th>DevName</th>\n",
       "      <th>1980</th>\n",
       "      <th>1981</th>\n",
       "      <th>...</th>\n",
       "      <th>2012</th>\n",
       "      <th>2013</th>\n",
       "      <th>Unnamed: 43</th>\n",
       "      <th>Unnamed: 44</th>\n",
       "      <th>Unnamed: 45</th>\n",
       "      <th>Unnamed: 46</th>\n",
       "      <th>Unnamed: 47</th>\n",
       "      <th>Unnamed: 48</th>\n",
       "      <th>Unnamed: 49</th>\n",
       "      <th>Unnamed: 50</th>\n",
       "    </tr>\n",
       "    <tr>\n",
       "      <th>OdName</th>\n",
       "      <th></th>\n",
       "      <th></th>\n",
       "      <th></th>\n",
       "      <th></th>\n",
       "      <th></th>\n",
       "      <th></th>\n",
       "      <th></th>\n",
       "      <th></th>\n",
       "      <th></th>\n",
       "      <th></th>\n",
       "      <th></th>\n",
       "      <th></th>\n",
       "      <th></th>\n",
       "      <th></th>\n",
       "      <th></th>\n",
       "      <th></th>\n",
       "      <th></th>\n",
       "      <th></th>\n",
       "      <th></th>\n",
       "      <th></th>\n",
       "      <th></th>\n",
       "    </tr>\n",
       "  </thead>\n",
       "  <tbody>\n",
       "    <tr>\n",
       "      <th>Afghanistan</th>\n",
       "      <td>Immigrants</td>\n",
       "      <td>Foreigners</td>\n",
       "      <td>935.0</td>\n",
       "      <td>Asia</td>\n",
       "      <td>5501.0</td>\n",
       "      <td>Southern Asia</td>\n",
       "      <td>902.0</td>\n",
       "      <td>Developing regions</td>\n",
       "      <td>16.0</td>\n",
       "      <td>39.0</td>\n",
       "      <td>...</td>\n",
       "      <td>2635.0</td>\n",
       "      <td>2004.0</td>\n",
       "      <td>NaN</td>\n",
       "      <td>NaN</td>\n",
       "      <td>NaN</td>\n",
       "      <td>NaN</td>\n",
       "      <td>NaN</td>\n",
       "      <td>NaN</td>\n",
       "      <td>NaN</td>\n",
       "      <td>NaN</td>\n",
       "    </tr>\n",
       "    <tr>\n",
       "      <th>Albania</th>\n",
       "      <td>Immigrants</td>\n",
       "      <td>Foreigners</td>\n",
       "      <td>908.0</td>\n",
       "      <td>Europe</td>\n",
       "      <td>925.0</td>\n",
       "      <td>Southern Europe</td>\n",
       "      <td>901.0</td>\n",
       "      <td>Developed regions</td>\n",
       "      <td>1.0</td>\n",
       "      <td>0.0</td>\n",
       "      <td>...</td>\n",
       "      <td>620.0</td>\n",
       "      <td>603.0</td>\n",
       "      <td>NaN</td>\n",
       "      <td>NaN</td>\n",
       "      <td>NaN</td>\n",
       "      <td>NaN</td>\n",
       "      <td>NaN</td>\n",
       "      <td>NaN</td>\n",
       "      <td>NaN</td>\n",
       "      <td>NaN</td>\n",
       "    </tr>\n",
       "    <tr>\n",
       "      <th>Algeria</th>\n",
       "      <td>Immigrants</td>\n",
       "      <td>Foreigners</td>\n",
       "      <td>903.0</td>\n",
       "      <td>Africa</td>\n",
       "      <td>912.0</td>\n",
       "      <td>Northern Africa</td>\n",
       "      <td>902.0</td>\n",
       "      <td>Developing regions</td>\n",
       "      <td>80.0</td>\n",
       "      <td>67.0</td>\n",
       "      <td>...</td>\n",
       "      <td>3774.0</td>\n",
       "      <td>4331.0</td>\n",
       "      <td>NaN</td>\n",
       "      <td>NaN</td>\n",
       "      <td>NaN</td>\n",
       "      <td>NaN</td>\n",
       "      <td>NaN</td>\n",
       "      <td>NaN</td>\n",
       "      <td>NaN</td>\n",
       "      <td>NaN</td>\n",
       "    </tr>\n",
       "    <tr>\n",
       "      <th>American Samoa</th>\n",
       "      <td>Immigrants</td>\n",
       "      <td>Foreigners</td>\n",
       "      <td>909.0</td>\n",
       "      <td>Oceania</td>\n",
       "      <td>957.0</td>\n",
       "      <td>Polynesia</td>\n",
       "      <td>902.0</td>\n",
       "      <td>Developing regions</td>\n",
       "      <td>0.0</td>\n",
       "      <td>1.0</td>\n",
       "      <td>...</td>\n",
       "      <td>0.0</td>\n",
       "      <td>0.0</td>\n",
       "      <td>NaN</td>\n",
       "      <td>NaN</td>\n",
       "      <td>NaN</td>\n",
       "      <td>NaN</td>\n",
       "      <td>NaN</td>\n",
       "      <td>NaN</td>\n",
       "      <td>NaN</td>\n",
       "      <td>NaN</td>\n",
       "    </tr>\n",
       "    <tr>\n",
       "      <th>Andorra</th>\n",
       "      <td>Immigrants</td>\n",
       "      <td>Foreigners</td>\n",
       "      <td>908.0</td>\n",
       "      <td>Europe</td>\n",
       "      <td>925.0</td>\n",
       "      <td>Southern Europe</td>\n",
       "      <td>901.0</td>\n",
       "      <td>Developed regions</td>\n",
       "      <td>0.0</td>\n",
       "      <td>0.0</td>\n",
       "      <td>...</td>\n",
       "      <td>1.0</td>\n",
       "      <td>1.0</td>\n",
       "      <td>NaN</td>\n",
       "      <td>NaN</td>\n",
       "      <td>NaN</td>\n",
       "      <td>NaN</td>\n",
       "      <td>NaN</td>\n",
       "      <td>NaN</td>\n",
       "      <td>NaN</td>\n",
       "      <td>NaN</td>\n",
       "    </tr>\n",
       "  </tbody>\n",
       "</table>\n",
       "<p>5 rows × 50 columns</p>\n",
       "</div>"
      ],
      "text/plain": [
       "                      Type    Coverage   AREA AreaName     REG  \\\n",
       "OdName                                                           \n",
       "Afghanistan     Immigrants  Foreigners  935.0     Asia  5501.0   \n",
       "Albania         Immigrants  Foreigners  908.0   Europe   925.0   \n",
       "Algeria         Immigrants  Foreigners  903.0   Africa   912.0   \n",
       "American Samoa  Immigrants  Foreigners  909.0  Oceania   957.0   \n",
       "Andorra         Immigrants  Foreigners  908.0   Europe   925.0   \n",
       "\n",
       "                        RegName    DEV             DevName  1980  1981  ...  \\\n",
       "OdName                                                                  ...   \n",
       "Afghanistan       Southern Asia  902.0  Developing regions  16.0  39.0  ...   \n",
       "Albania         Southern Europe  901.0   Developed regions   1.0   0.0  ...   \n",
       "Algeria         Northern Africa  902.0  Developing regions  80.0  67.0  ...   \n",
       "American Samoa        Polynesia  902.0  Developing regions   0.0   1.0  ...   \n",
       "Andorra         Southern Europe  901.0   Developed regions   0.0   0.0  ...   \n",
       "\n",
       "                  2012    2013  Unnamed: 43  Unnamed: 44  Unnamed: 45  \\\n",
       "OdName                                                                  \n",
       "Afghanistan     2635.0  2004.0          NaN          NaN          NaN   \n",
       "Albania          620.0   603.0          NaN          NaN          NaN   \n",
       "Algeria         3774.0  4331.0          NaN          NaN          NaN   \n",
       "American Samoa     0.0     0.0          NaN          NaN          NaN   \n",
       "Andorra            1.0     1.0          NaN          NaN          NaN   \n",
       "\n",
       "                Unnamed: 46  Unnamed: 47  Unnamed: 48  Unnamed: 49  \\\n",
       "OdName                                                               \n",
       "Afghanistan             NaN          NaN          NaN          NaN   \n",
       "Albania                 NaN          NaN          NaN          NaN   \n",
       "Algeria                 NaN          NaN          NaN          NaN   \n",
       "American Samoa          NaN          NaN          NaN          NaN   \n",
       "Andorra                 NaN          NaN          NaN          NaN   \n",
       "\n",
       "                Unnamed: 50  \n",
       "OdName                       \n",
       "Afghanistan             NaN  \n",
       "Albania                 NaN  \n",
       "Algeria                 NaN  \n",
       "American Samoa          NaN  \n",
       "Andorra                 NaN  \n",
       "\n",
       "[5 rows x 50 columns]"
      ]
     },
     "execution_count": 20,
     "metadata": {},
     "output_type": "execute_result"
    }
   ],
   "source": [
    "df.set_index('OdName', inplace=True)\n",
    "df.head()"
   ]
  },
  {
   "cell_type": "code",
   "execution_count": 24,
   "id": "8d67d830-a306-479a-93d8-234b4f1f745b",
   "metadata": {},
   "outputs": [],
   "source": [
    "haiti=df.loc['Haiti',years]"
   ]
  },
  {
   "cell_type": "code",
   "execution_count": 25,
   "id": "cbda760d-14b9-49c1-90b9-114c0a1e21d1",
   "metadata": {},
   "outputs": [
    {
     "data": {
      "text/plain": [
       "<matplotlib.axes._subplots.AxesSubplot at 0x7f6884eeb310>"
      ]
     },
     "execution_count": 25,
     "metadata": {},
     "output_type": "execute_result"
    },
    {
     "data": {
      "image/png": "[encoded data removed]",
      "text/plain": [
       "<Figure size 432x288 with 1 Axes>"
      ]
     },
     "metadata": {},
     "output_type": "display_data"
    }
   ],
   "source": [
    "haiti.plot()"
   ]
  },
  {
   "cell_type": "code",
   "execution_count": null,
   "id": "0c1f9656-39ef-47eb-b433-67565bbe75d6",
   "metadata": {},
   "outputs": [],
   "source": []
  }
 ],
 "metadata": {
  "kernelspec": {
   "display_name": "Python 3 (ipykernel)",
   "language": "python",
   "name": "python3"
  },
  "language_info": {
   "codemirror_mode": {
    "name": "ipython",
    "version": 3
   },
   "file_extension": ".py",
   "mimetype": "text/x-python",
   "name": "python",
   "nbconvert_exporter": "python",
   "pygments_lexer": "ipython3",
   "version": "3.8.10"
  }
 },
 "nbformat": 4,
 "nbformat_minor": 5
}
